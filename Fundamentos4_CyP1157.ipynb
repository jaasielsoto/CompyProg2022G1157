{
  "nbformat": 4,
  "nbformat_minor": 0,
  "metadata": {
    "colab": {
      "name": "Fundamentos4_CyP1157.ipynb",
      "provenance": [],
      "authorship_tag": "ABX9TyMf/xWX4W50DZBH2q4WF6Ok",
      "include_colab_link": true
    },
    "kernelspec": {
      "name": "python3",
      "display_name": "Python 3"
    },
    "language_info": {
      "name": "python"
    }
  },
  "cells": [
    {
      "cell_type": "markdown",
      "metadata": {
        "id": "view-in-github",
        "colab_type": "text"
      },
      "source": [
        "<a href=\"https://colab.research.google.com/github/jaasielsoto/CompyProg2022G1157/blob/main/Fundamentos4_CyP1157.ipynb\" target=\"_parent\"><img src=\"https://colab.research.google.com/assets/colab-badge.svg\" alt=\"Open In Colab\"/></a>"
      ]
    },
    {
      "cell_type": "markdown",
      "metadata": {
        "id": "BowT9Mf0UPXI"
      },
      "source": [
        "#Modularidad (Funciones)\n",
        "![función.jpeg](data:image/jpeg;base64,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)"
      ]
    },
    {
      "cell_type": "markdown",
      "metadata": {
        "id": "Z7ixXUWhVVD7"
      },
      "source": [
        "Una función es una unidad de código reutilizable, además de ser un mecanismo para organizar código.\n",
        "\n",
        "La gran ventaja de emplear funciones se simplifican la programación.\n",
        "\n",
        "### Estructura\n",
        "\n",
        "Una función puede tomar cualquier cantidad de parametros de entrada(de cualquier tipo)  y retorna unicamente un sólo valor.\n",
        "\n",
        "Un párametro de entrada es un valor que recibe la función para realizar sus operaciones.\n",
        "\n",
        "Con una función se pueden hacer 2 cosas:\n",
        "1. Definirla\n",
        "2. invocarla (ejecutarla) ó (mandarla a traer)\n",
        "\n",
        "La gran ventaja de tener una función declarada es que la podemos reutilizar cuando se desee. "
      ]
    },
    {
      "cell_type": "code",
      "metadata": {
        "colab": {
          "base_uri": "https://localhost:8080/"
        },
        "id": "dLEknDAmUJSa",
        "outputId": "6527f86a-85b7-4fd5-b6be-a6a099b9666f"
      },
      "source": [
        "print(\"hola\",\"Jesus\") #los parametros son los datos que entran en la función (estan drentro del parentesis)\n",
        "# print es una caja negra ya que no sabemos realmente que es el proceso que hace\n",
        "# las funciones son como cajas negras\n",
        "# debo de aprender lo que entra y lo que sale"
      ],
      "execution_count": null,
      "outputs": [
        {
          "output_type": "stream",
          "name": "stdout",
          "text": [
            "hola Jesus\n"
          ]
        }
      ]
    },
    {
      "cell_type": "code",
      "metadata": {
        "id": "nX1Bedc6XVWV"
      },
      "source": [
        "#una funcion se define utilizando una palabra clave o reservada \n",
        "def sumar(op1,op2 ):\n",
        "    # cuerpo de la función\n",
        "    res= op1 + op2\n",
        "    return res\n"
      ],
      "execution_count": null,
      "outputs": []
    },
    {
      "cell_type": "code",
      "metadata": {
        "colab": {
          "base_uri": "https://localhost:8080/"
        },
        "id": "G3X9nKD2YENy",
        "outputId": "97bf634f-eb0a-4dd8-dca8-6ae1a8342a73"
      },
      "source": [
        "res = sumar(2,5)\n",
        "print(res)\n",
        "res= sumar(33,22)\n",
        "print(res)"
      ],
      "execution_count": null,
      "outputs": [
        {
          "output_type": "stream",
          "name": "stdout",
          "text": [
            "7\n",
            "55\n"
          ]
        }
      ]
    },
    {
      "cell_type": "code",
      "metadata": {
        "colab": {
          "base_uri": "https://localhost:8080/"
        },
        "id": "MDuMXy-pZTC_",
        "outputId": "fc87c01e-7575-4fca-ecc7-b7de77aaa6b4"
      },
      "source": [
        "help(print)"
      ],
      "execution_count": null,
      "outputs": [
        {
          "output_type": "stream",
          "name": "stdout",
          "text": [
            "Help on built-in function print in module builtins:\n",
            "\n",
            "print(...)\n",
            "    print(value, ..., sep=' ', end='\\n', file=sys.stdout, flush=False)\n",
            "    \n",
            "    Prints the values to a stream, or to sys.stdout by default.\n",
            "    Optional keyword arguments:\n",
            "    file:  a file-like object (stream); defaults to the current sys.stdout.\n",
            "    sep:   string inserted between values, default a space.\n",
            "    end:   string appended after the last value, default a newline.\n",
            "    flush: whether to forcibly flush the stream.\n",
            "\n"
          ]
        }
      ]
    },
    {
      "cell_type": "code",
      "metadata": {
        "colab": {
          "base_uri": "https://localhost:8080/"
        },
        "id": "ED5I4IN_ZuHl",
        "outputId": "2954da62-ee10-4701-dd5e-664eeda07ee7"
      },
      "source": [
        "print(\"hola\",\"Jesus\", sep=\"-\")"
      ],
      "execution_count": null,
      "outputs": [
        {
          "output_type": "stream",
          "name": "stdout",
          "text": [
            "hola-Jesus\n"
          ]
        }
      ]
    },
    {
      "cell_type": "code",
      "metadata": {
        "colab": {
          "base_uri": "https://localhost:8080/"
        },
        "id": "YMatIos9aUAu",
        "outputId": "3308ce0c-8585-4ea0-fdc8-e1ca2b5510ce"
      },
      "source": [
        "def imprime_cuadro():\n",
        "    print(\"******\")\n",
        "    print(\"******\")\n",
        "    print(\"******\")\n",
        "    print(\"******\")\n",
        "    #return none\n",
        "imprime_cuadro()"
      ],
      "execution_count": null,
      "outputs": [
        {
          "output_type": "stream",
          "name": "stdout",
          "text": [
            "******\n",
            "******\n",
            "******\n",
            "******\n"
          ]
        }
      ]
    },
    {
      "cell_type": "markdown",
      "metadata": {
        "id": "1lDE0Dz4a7Ek"
      },
      "source": [
        "# Valor de retorno de una función\n",
        "\n",
        "regla de oro.- Una función siempre retorna UN SOLO VALOR.\n",
        "\n",
        "Inclusive si ese valor es el vacio"
      ]
    },
    {
      "cell_type": "code",
      "metadata": {
        "colab": {
          "base_uri": "https://localhost:8080/"
        },
        "id": "iP2wPh2lbL42",
        "outputId": "8d3c8d06-671c-46ee-fa96-5b30cb5ef596"
      },
      "source": [
        "#invocar sumar\n",
        "res=sumar(7,7)\n",
        "print(res)\n",
        "#invocar la funcion pintar cuadro\n",
        "res = imprime_cuadro()\n",
        "print(res)\n",
        "# la función siempre regrsa algo en este caso regresa none \n",
        "# en lenguaje C la palabra reservada equivalente a none es void"
      ],
      "execution_count": null,
      "outputs": [
        {
          "output_type": "stream",
          "name": "stdout",
          "text": [
            "14\n",
            "******\n",
            "******\n",
            "******\n",
            "******\n",
            "None\n"
          ]
        }
      ]
    },
    {
      "cell_type": "markdown",
      "metadata": {
        "id": "2cTE_RatdFKX"
      },
      "source": [
        "# La palabra reservada None de python\n",
        "\n",
        "Esta palabra reservada significa vacío, equivalente a la palabra reservada void del lenguaje C, C++ y Java.\n",
        "\n",
        "Se usa para indicar yasea un return vacío o que o que se recive como parámetro un vacío.\n"
      ]
    },
    {
      "cell_type": "code",
      "metadata": {
        "id": "_egE2tbXd4Ul"
      },
      "source": [
        "def multiplicar(valor,veces):\n",
        "    c = valor * veces\n",
        "    return c "
      ],
      "execution_count": null,
      "outputs": []
    },
    {
      "cell_type": "code",
      "metadata": {
        "colab": {
          "base_uri": "https://localhost:8080/"
        },
        "id": "vz5hSrO9eIZA",
        "outputId": "fbe94d9d-edab-4c2b-9cd8-e45c94b85744"
      },
      "source": [
        "res= multiplicar( None,5)\n",
        "print(res)"
      ],
      "execution_count": null,
      "outputs": [
        {
          "output_type": "stream",
          "name": "stdout",
          "text": [
            "-1\n"
          ]
        }
      ]
    },
    {
      "cell_type": "code",
      "metadata": {
        "id": "JBuncuh6ewpM"
      },
      "source": [
        "def multiplicar(valor,veces):\n",
        "    if valor == None:\n",
        "        c =-1\n",
        "    else:\n",
        "        c = valor * veces\n",
        "    return c "
      ],
      "execution_count": null,
      "outputs": []
    },
    {
      "cell_type": "code",
      "metadata": {
        "colab": {
          "base_uri": "https://localhost:8080/"
        },
        "id": "4EPS-1lvfAnj",
        "outputId": "ff812027-9930-4a08-9f40-59e40c9f165d"
      },
      "source": [
        "res= multiplicar( None,5)\n",
        "print(res)"
      ],
      "execution_count": null,
      "outputs": [
        {
          "output_type": "stream",
          "name": "stdout",
          "text": [
            "-1\n"
          ]
        }
      ]
    },
    {
      "cell_type": "markdown",
      "metadata": {
        "id": "lcrdBTJ6fhDL"
      },
      "source": [
        "# Parámetros y argumentos\n",
        "\n",
        "Son conceptos relacionados y su diferencia esta centrada en el momento que se emplea en una función.\n",
        "\n",
        "Es decir en la función sumar de arriba, cuando se declara se le llama parárametro y cuando se invoca se le llama argumento.\n",
        "\n",
        "cuando se delcara tenemos dos parametros de entrada (vea el primer ejemplo del cuadernillo)\n",
        "\n",
        "y al usarlo ya en una operación se usa argumento"
      ]
    },
    {
      "cell_type": "markdown",
      "metadata": {
        "id": "l058flURfY97"
      },
      "source": [
        "# Argumentos posicionales\n",
        "\n",
        "En python es posible determinar a que parámetros  están dirigidos los argumentos, según su posición"
      ]
    },
    {
      "cell_type": "code",
      "metadata": {
        "id": "-RVtjBwigppV"
      },
      "source": [
        "def dividir( op1 , op2 ):\n",
        "    c = op1 / op2\n",
        "    return c "
      ],
      "execution_count": null,
      "outputs": []
    },
    {
      "cell_type": "code",
      "metadata": {
        "colab": {
          "base_uri": "https://localhost:8080/"
        },
        "id": "Sy5cQGV-g1oi",
        "outputId": "a3495403-ca71-43dc-d887-4c3ba92ab57e"
      },
      "source": [
        "num1 = 25\n",
        "num2 = 5\n",
        "res=dividir(num1,num2)\n",
        "print(res)\n",
        "res= dividir(num2,num1)\n",
        "print(res)"
      ],
      "execution_count": null,
      "outputs": [
        {
          "output_type": "stream",
          "name": "stdout",
          "text": [
            "5.0\n",
            "0.2\n"
          ]
        }
      ]
    },
    {
      "cell_type": "markdown",
      "metadata": {
        "id": "Qltqlbu8hdsJ"
      },
      "source": [
        "#Argumentos con palabra clave (keywords)\n",
        "\n",
        "Es la posibilidad de indicarle a la función en tiempo de ejecución a que parámetro va dirigido un argumento de entrada.\n",
        "\n",
        "Solo disponible en python"
      ]
    },
    {
      "cell_type": "code",
      "metadata": {
        "colab": {
          "base_uri": "https://localhost:8080/"
        },
        "id": "XQ3OtPAXhrVW",
        "outputId": "27614d94-d7a5-4317-f1bf-6c60597611ad"
      },
      "source": [
        "res = dividir( op2=num2 , op1=num1 )\n",
        "print(res)"
      ],
      "execution_count": null,
      "outputs": [
        {
          "output_type": "stream",
          "name": "stdout",
          "text": [
            "5.0\n"
          ]
        }
      ]
    },
    {
      "cell_type": "markdown",
      "metadata": {
        "id": "5psctrhuigB8"
      },
      "source": [
        "nuevamente nombre"
      ]
    },
    {
      "cell_type": "code",
      "metadata": {
        "id": "mXir7Kr5iiZ1"
      },
      "source": [
        "def letra_J( caracter ):\n",
        "    print(f\"    {caracter}\")\n",
        "    print(f\"    {caracter}\")\n",
        "    print(f\"    {caracter}\")\n",
        "    print(f\"    {caracter}\")\n",
        "    print(f\"{caracter}{caracter}{caracter}{caracter}\")"
      ],
      "execution_count": null,
      "outputs": []
    },
    {
      "cell_type": "code",
      "metadata": {
        "colab": {
          "base_uri": "https://localhost:8080/"
        },
        "id": "uE_bIPxJi8tX",
        "outputId": "31f3b863-eb8e-416d-be9d-cc5a01a492dc"
      },
      "source": [
        "letra_J('J')"
      ],
      "execution_count": null,
      "outputs": [
        {
          "output_type": "stream",
          "name": "stdout",
          "text": [
            "    J\n",
            "    J\n",
            "    J\n",
            "    J\n",
            "JJJJ\n"
          ]
        }
      ]
    }
  ]
}
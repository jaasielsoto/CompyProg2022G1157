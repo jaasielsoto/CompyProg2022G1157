{
  "nbformat": 4,
  "nbformat_minor": 0,
  "metadata": {
    "colab": {
      "name": "Tarea_6_CyP.ipynb",
      "provenance": [],
      "collapsed_sections": [],
      "authorship_tag": "ABX9TyO4hk2k+Q4sf8Lp4gCWhoQh",
      "include_colab_link": true
    },
    "kernelspec": {
      "name": "python3",
      "display_name": "Python 3"
    },
    "language_info": {
      "name": "python"
    }
  },
  "cells": [
    {
      "cell_type": "markdown",
      "metadata": {
        "id": "view-in-github",
        "colab_type": "text"
      },
      "source": [
        "<a href=\"https://colab.research.google.com/github/jaasielsoto/CompyProg2022G1157/blob/main/Tarea_6_CyP.ipynb\" target=\"_parent\"><img src=\"https://colab.research.google.com/assets/colab-badge.svg\" alt=\"Open In Colab\"/></a>"
      ]
    },
    {
      "cell_type": "markdown",
      "metadata": {
        "id": "O30mrYritVd8"
      },
      "source": [
        "\n",
        "\n",
        "# Tarea 6\n",
        "Problema 2.1 Grillometro \n",
        "\n"
      ]
    },
    {
      "cell_type": "code",
      "metadata": {
        "id": "R4B10bZKSCJG",
        "colab": {
          "base_uri": "https://localhost:8080/"
        },
        "outputId": "a93b74f7-929c-4439-ee04-c4f238e8332d"
      },
      "source": [
        "N = int(input(\"El numero de sonidos emitidos por el grillo es: \"))\n",
        "T = 0\n",
        "if N > 0 :\n",
        "    T = N/4 +40\n",
        "    print(f\"La temperatura en grados Fahrenheit que marca el Grillometro es:\",T)\n",
        "else:\n",
        "    print(\"Porfavor ingresa un valor de 0-6\")\n",
        "print(\"--FIN DEL PROGRAMA--\")"
      ],
      "execution_count": null,
      "outputs": [
        {
          "output_type": "stream",
          "name": "stdout",
          "text": [
            "El numero de sonidos emitidos por el grillo es: 15\n",
            "La temperatura en grados Fahrenheit que marca el Grillometro es: 43.75\n"
          ]
        }
      ]
    },
    {
      "cell_type": "markdown",
      "metadata": {
        "id": "8ze8xAPXx4A1"
      },
      "source": [
        "Problema 2.2\n",
        "Evaluador de dos valores con potencias"
      ]
    },
    {
      "cell_type": "code",
      "metadata": {
        "colab": {
          "base_uri": "https://localhost:8080/"
        },
        "id": "MuoGsnkzy6PI",
        "outputId": "a5d42e13-4fab-4165-8f80-962c6eff7bd2"
      },
      "source": [
        "P =int(input(\"ingresa el primer valor entero: \"))\n",
        "Q =int(input(\"ingresa el primer valor entero: \"))\n",
        "EXP = 0 \n",
        "if P**3+Q**4-2*P**2 < 680:\n",
        "    if EXP < 680:\n",
        "      print(f\"los valores {P} y {Q} cumplen con la condición\")\n",
        "else:\n",
        "    print(f\"Los valores no cumplen con las especificaciones\")\n",
        "print(\"--FIN DEL PROGRAMA--\")"
      ],
      "execution_count": null,
      "outputs": [
        {
          "output_type": "stream",
          "name": "stdout",
          "text": [
            "ingresa el primer valor entero: 3\n",
            "ingresa el primer valor entero: 5\n",
            "los valores 3 y 5 cumplen con la condición\n",
            "--FIN DEL PROGRAMA--\n"
          ]
        }
      ]
    },
    {
      "cell_type": "markdown",
      "metadata": {
        "id": "L72iZkGb1WYD"
      },
      "source": [
        "Problema 2.3 Raíces"
      ]
    },
    {
      "cell_type": "code",
      "metadata": {
        "colab": {
          "base_uri": "https://localhost:8080/"
        },
        "id": "npfFlt3z3l6l",
        "outputId": "781fdeac-2772-4b17-bbca-c9d7a97433ea"
      },
      "source": [
        "A = float(input(\"ingresa la primer variable, debe ser distinto de 0: \"))\n",
        "B =float(input(\"Ingresa la segunda variable: \"))\n",
        "C =float(input(\"Ingresa la segunda variable: \"))\n",
        "X1 = 0\n",
        "X2 =0\n",
        "DIS = B**2-4*A*C\n",
        "if DIS >= 0: \n",
        "   X1 = ((-B)+ DIS**0.5)/(2*A) \n",
        "   X2 = ((-B)- DIS**0.5)/(2*A)\n",
        "   print(\"Raíces reales:\",X1,X2)\n",
        "else:\n",
        "     print(\"DIS no es diferente de 0\")\n",
        "print(\"--FIN DEL PROGRAMA--\")"
      ],
      "execution_count": null,
      "outputs": [
        {
          "output_type": "stream",
          "name": "stdout",
          "text": [
            "ingresa la primer variable, debe ser distinto de 0: 3\n",
            "Ingresa la segunda variable: 9\n",
            "Ingresa la segunda variable: 1.5\n",
            "Raíces reales: -0.17712434446770464 -2.8228756555322954\n",
            "--FIN DEL PROGRAMA--\n"
          ]
        }
      ]
    },
    {
      "cell_type": "markdown",
      "metadata": {
        "id": "ZKnd1vP3D7qs"
      },
      "source": [
        "Problema 2.4\n",
        "Promedio de un alumno"
      ]
    },
    {
      "cell_type": "code",
      "metadata": {
        "colab": {
          "base_uri": "https://localhost:8080/"
        },
        "id": "eQP7VRxXEnvt",
        "outputId": "3b759003-8151-495c-c699-07cea04d6221"
      },
      "source": [
        "MAT = int(input(\"ingresa tu matricula de 5 digitos\"))\n",
        "CAL1 = float(input(\"Ingresa la calificación del periodo 1: \"))\n",
        "CAL2 = float(input(\"Ingresa la calificación del periodo 2: \"))\n",
        "CAL3 = float(input(\"Ingresa la calificación del periodo 3: \"))\n",
        "CAL4 = float(input(\"Ingresa la calificación del periodo 4: \"))\n",
        "CAL5 = float(input(\"Ingresa la calificación del periodo 5: \"))\n",
        "PRO= (CAL1+CAL2+CAL3+CAL4+CAL5)/5\n",
        "if PRO >= 6:\n",
        "    print(\"Matrícula\",MAT,\"Promedio final\",PRO,\"APROBADO\")\n",
        "else:\n",
        "    print(\"Matrícula\",MAT,\"Promedio final\",PRO,\"NO APROBADO\")\n",
        "print(\"--FIN DEL PROGRAMA--\")"
      ],
      "execution_count": null,
      "outputs": [
        {
          "output_type": "stream",
          "name": "stdout",
          "text": [
            "ingresa tu matricula de 5 digitos16500\n",
            "Ingresa la calificación del periodo 1: 6\n",
            "Ingresa la calificación del periodo 2: 7.50\n",
            "Ingresa la calificación del periodo 3: 8\n",
            "Ingresa la calificación del periodo 4: 9.50\n",
            "Ingresa la calificación del periodo 5: 7\n",
            "Matrícula 16500 Promedio final 7.6 APROBADO\n",
            "--FIN DEL PROGRAMA--\n"
          ]
        }
      ]
    },
    {
      "cell_type": "markdown",
      "metadata": {
        "id": "06Z4rHA5Gqiu"
      },
      "source": [
        "Problema 2.5 \n",
        "Analizar un número y ver si es positivo, negativo o nulo"
      ]
    },
    {
      "cell_type": "code",
      "metadata": {
        "colab": {
          "base_uri": "https://localhost:8080/"
        },
        "id": "fmx9NNM1KlBQ",
        "outputId": "b6175e6e-ec0c-4c85-92ec-1f766acf57c1"
      },
      "source": [
        "NUM = int(input(\"Escribe tu un número entero: \"))\n",
        "if NUM > 0:\n",
        "    print(\"POSITIVO\")\n",
        "else:\n",
        "     if NUM == 0:\n",
        "        print(\"NULO\")\n",
        "     else:\n",
        "          print(\"NEGATIVO\")\n",
        "print(\"--FIN DEL PROGRAMA--\")\n",
        "\n"
      ],
      "execution_count": null,
      "outputs": [
        {
          "output_type": "stream",
          "name": "stdout",
          "text": [
            "Escribe tu un número entero6\n",
            "POSITIVO\n",
            "--FIN DEL PROGRAMA--\n"
          ]
        }
      ]
    },
    {
      "cell_type": "markdown",
      "metadata": {
        "id": "aDs8zYiFL9mT"
      },
      "source": [
        "Problema 2.6\n",
        "Analizar un numero si es par o impar"
      ]
    },
    {
      "cell_type": "code",
      "metadata": {
        "colab": {
          "base_uri": "https://localhost:8080/"
        },
        "id": "99XZuz6BMunu",
        "outputId": "d2b3d741-91e0-48c9-e7b4-d6ef626b9c25"
      },
      "source": [
        "A = int(input(\"Ingresa el valor de A: \"))\n",
        "if A == 0:\n",
        "    print(\"NULO\")\n",
        "else: \n",
        "     if ((-1) ** A) > 0:\n",
        "        print(\"PAR\")\n",
        "     else:\n",
        "          print(\"IMPAR\")\n",
        "print(\"--FIN DEL PROGRAMA--\")"
      ],
      "execution_count": null,
      "outputs": [
        {
          "output_type": "stream",
          "name": "stdout",
          "text": [
            "Ingresa el valor de A: 3\n",
            "IMPAR\n",
            "--FIN DEL PROGRAMA--\n"
          ]
        }
      ]
    },
    {
      "cell_type": "markdown",
      "metadata": {
        "id": "HgCBxqYuQl4f"
      },
      "source": [
        "Problema 2.7\n",
        "analizar si los números estan en orden creciente"
      ]
    },
    {
      "cell_type": "code",
      "metadata": {
        "colab": {
          "base_uri": "https://localhost:8080/"
        },
        "id": "GG8YdYLiSRvg",
        "outputId": "bd684cf8-819f-4299-a5d1-8ed4319d742d"
      },
      "source": [
        "A = int(input(\"Escribe el primer número entero: \"))\n",
        "B = int(input(\"Escribe el segundo número entero: \"))\n",
        "C = int(input(\"Escribe el tercer número entero: \"))\n",
        "if A < B:\n",
        "  if B < C:\n",
        "     print(\"Los números están en orden creciente\")\n",
        "  else:\n",
        "      print(\"Los números no están en orden creciente\")\n",
        "else:\n",
        "    print(\"Los números no están en orden creciente\")   \n",
        "print(\"--FIN DEL PROGRAMA--\")"
      ],
      "execution_count": null,
      "outputs": [
        {
          "output_type": "stream",
          "name": "stdout",
          "text": [
            "Escribe el primer número entero: 3\n",
            "Escribe el segundo número entero: 4\n",
            "Escribe el tercer número entero: 2\n",
            "Los números no están en orden creciente\n",
            "--FIN DEL PROGRAMA--\n"
          ]
        }
      ]
    },
    {
      "cell_type": "markdown",
      "metadata": {
        "id": "l6pHLoFwTIdp"
      },
      "source": [
        "Problema 2.8\n",
        "Administra descuentos!!"
      ]
    },
    {
      "cell_type": "code",
      "metadata": {
        "colab": {
          "base_uri": "https://localhost:8080/"
        },
        "id": "0Siy_ejXTPxA",
        "outputId": "956f4f48-0d8a-4cc7-ebed-650d66c3bce8"
      },
      "source": [
        "COMPRA = int(input(\"Ingresa un monto de compra\")) \n",
        "PAGAR = 0\n",
        "if COMPRA < 500:\n",
        "   PAGAR = COMPRA\n",
        "   print(\"Lo que pagas es: \",PAGAR)\n",
        "else:\n",
        "    if COMPRA <= 1000:\n",
        "       PAGAR = COMPRA - (COMPRA * 0.05)\n",
        "       print(\"Lo que pagas con descuento es: \",PAGAR)\n",
        "    else:\n",
        "         if COMPRA <= 7000:\n",
        "            PAGAR = COMPRA-(COMPRA*0.11)\n",
        "            print(\"Lo que pagas con descuento es: \",PAGAR)\n",
        "         else:\n",
        "              if COMPRA <= 15000:\n",
        "                 PAGAR = COMPRA-(COMPRA*0.18)\n",
        "                 print(\"Lo que pagas con descuento es: \",PAGAR)\n",
        "              else:\n",
        "                   PAGAR = COMPRA-(COMPRA*0.25)\n",
        "                   print(\"Lo que pagas con descuento es: \",PAGAR)\n",
        "print(\"--FIN DEL PROGRAMA--\")"
      ],
      "execution_count": null,
      "outputs": [
        {
          "output_type": "stream",
          "name": "stdout",
          "text": [
            "Ingresa un monto de compra3500\n",
            "Lo que pagas con descuento es:  3115.0\n",
            "--FIN DEL PROGRAMA--\n"
          ]
        }
      ]
    },
    {
      "cell_type": "markdown",
      "metadata": {
        "id": "-Our_7ZSWKlO"
      },
      "source": [
        "Problema 2.9\n",
        "Impuestos de algun producto"
      ]
    },
    {
      "cell_type": "code",
      "metadata": {
        "colab": {
          "base_uri": "https://localhost:8080/"
        },
        "id": "7MsAbuwYZgcs",
        "outputId": "f312c0fc-ba23-406a-ac2e-cccce51c11a7"
      },
      "source": [
        "PREBAS = float(input(\"Introduce el precio del prodcuto: \"))\n",
        "IMP = 0\n",
        "PRETOT = 0\n",
        "if PREBAS > 500:\n",
        "   IMP = 20*0.30+ (PREBAS-40)*0.50\n",
        "   PRETOT = PREBAS+IMP\n",
        "   print(\"Precio del producto es: \",PREBAS,\",Precio del producto con impuesto es: \",round(PRETOT,2))\n",
        "else:\n",
        "     if PREBAS > 40:\n",
        "        IMP = 20*0.30+(PREBAS-40)*0.40\n",
        "        PRETOT = PREBAS+IMP\n",
        "        print(\"Precio del producto es: \",PREBAS,\",Precio del producto con impuesto es: \",round(PRETOT,2))\n",
        "     else:\n",
        "          if PREBAS > 20:\n",
        "             IMP = (PREBAS-20)*0.30\n",
        "             PRETOT = PREBAS+IMP\n",
        "             print(\"Precio del producto es: \",PREBAS,\",Precio del producto con impuesto es: \",round(PRETOT,2))\n",
        "          else:\n",
        "               IMP = 0\n",
        "               PRETOT = PREBAS+IMP\n",
        "               print(\"Precio del producto es: \",PREBAS,\",Precio del producto con impuesto es: \",round(PRETOT,2))\n",
        "print(\"--FIN DEL PROGRAMA--\")"
      ],
      "execution_count": null,
      "outputs": [
        {
          "output_type": "stream",
          "name": "stdout",
          "text": [
            "Introduce el precio del prodcuto: 527.50\n",
            "Precio del producto es:  527.5 ,Precio del producto con impuesto es:  777.25\n",
            "--FIN DEL PROGRAMA--\n"
          ]
        }
      ]
    },
    {
      "cell_type": "markdown",
      "metadata": {
        "id": "lEKe5SMTdfzm"
      },
      "source": [
        "Problema 2.10\n",
        "Dados tres numeros identificar cual es el mayor "
      ]
    },
    {
      "cell_type": "code",
      "metadata": {
        "colab": {
          "base_uri": "https://localhost:8080/"
        },
        "id": "y3QmHduninzo",
        "outputId": "c500a113-f5ee-4830-a86d-2aeac7e7e3e9"
      },
      "source": [
        "A = int(input(\"Ingresa el primer número entero: \"))\n",
        "B = int(input(\"Ingresa el primer número entero: \"))\n",
        "C = int(input(\"Ingresa el primer número entero: \"))\n",
        "if A > B:\n",
        "   if A > C:\n",
        "      print(\"A es el mayor\")\n",
        "   else:\n",
        "        if A == C:\n",
        "           print(\"A y C son los mayores\")\n",
        "        else: \n",
        "            print(\"C es el mayor\")\n",
        "else:\n",
        "    if A == B:\n",
        "       if A > C:\n",
        "          print(\"A y B son los mayores\")\n",
        "       else:\n",
        "            if A == C:\n",
        "               print(\"A, B y C son iguales\")\n",
        "            else: \n",
        "                 print(\"C es el mayor\")\n",
        "    else:\n",
        "         if B > C:\n",
        "            print(\"B es el mayor\")\n",
        "         else: \n",
        "              if B == C:\n",
        "                 print(\"B y C son mayores\")\n",
        "              else:\n",
        "                  print(\"C es el mayor\")     \n",
        "print(\"--FIN DEL PROGRAMA--\")         "
      ],
      "execution_count": null,
      "outputs": [
        {
          "output_type": "stream",
          "name": "stdout",
          "text": [
            "Ingresa el primer número entero: 17\n",
            "Ingresa el primer número entero: 17\n",
            "Ingresa el primer número entero: 17\n",
            "A, B y C son iguales\n",
            "--FIN DEL PROGRAMA--\n"
          ]
        }
      ]
    },
    {
      "cell_type": "markdown",
      "metadata": {
        "id": "PgE5QPQTkioP"
      },
      "source": [
        "Problema 2.11\n",
        "Calcular el costo de una llamada telefonica con movistar"
      ]
    },
    {
      "cell_type": "code",
      "metadata": {
        "colab": {
          "base_uri": "https://localhost:8080/"
        },
        "id": "p5U9uHfIfxwd",
        "outputId": "7a8d53f8-35a1-47b1-ff1b-50396e9b1489"
      },
      "source": [
        "CLAVE = int(input(\"Ingresa la clave de la zona geográfica desde la que estas llamando: \"))\n",
        "NUMIN = int(input(\"¿Cuatos minutos duro tu llamada?\"))\n",
        "COST = 0\n",
        "if CLAVE == 12:\n",
        "   COST = NUMIN*2\n",
        "   print(\"Costo total de la llamada: \",COST)\n",
        "else:\n",
        "    if CLAVE == 15:\n",
        "       COST = NUMIN*2.2\n",
        "       print(\"Costo total de la llamada: \",COST)\n",
        "    else:\n",
        "         if CLAVE == 18: \n",
        "            COST = NUMIN*4.5\n",
        "            print(\"Costo total de la llamada: \",COST) \n",
        "         else:\n",
        "             if CLAVE == 19:\n",
        "                COST = NUMIN*3.5\n",
        "                print(\"Costo total de la llamada: \",COST)\n",
        "             else:\n",
        "                 if CLAVE == 23 and 25:\n",
        "                    COST = NUMIN*6\n",
        "                    print(\"Costo total de la llamada: \",COST)\n",
        "                 else:\n",
        "                     if CLAVE == 29:\n",
        "                        COST = NUMIN*5\n",
        "                        print(\"Costo total de la llamada: \",COST)\n",
        "print(\"--FIN DEL PROGRAMA--\")  "
      ],
      "execution_count": null,
      "outputs": [
        {
          "output_type": "stream",
          "name": "stdout",
          "text": [
            "Ingresa la clave de la zona geográfica desde la que estas llamando: 18\n",
            "¿Cuatos minutos duro tu llamada?12\n",
            "Costo total de la llamada:  54.0\n",
            "--FIN DEL PROGRAMA--\n"
          ]
        }
      ]
    },
    {
      "cell_type": "markdown",
      "metadata": {
        "id": "Sdzqwgc3jAy_"
      },
      "source": [
        "Problema 2.12 \n",
        "pagos a un trabajador en cuestión de horas laborales"
      ]
    },
    {
      "cell_type": "code",
      "metadata": {
        "colab": {
          "base_uri": "https://localhost:8080/"
        },
        "id": "5GyiMJlyj3Jo",
        "outputId": "115b4019-3dcd-4118-9a3e-d22bd176c924"
      },
      "source": [
        "SUE = int(input(\"Ingresa tu sueldo: \"))\n",
        "CATE = int(input(\"Indica tu categoria de trabajador de 1 a 8: \"))\n",
        "HE = int(input(\"Indica la cantidad de horas extra: \"))\n",
        "PHE = 0\n",
        "NSUE = 0\n",
        "if CATE >= 1 and CATE <= 8 and CATE !=0:   \n",
        "   if CATE == 1:\n",
        "      PHE = 30\n",
        "   if CATE == 2:\n",
        "      PHE = 38\n",
        "   if CATE == 3:\n",
        "      PHE = 50\n",
        "   if CATE == 4:\n",
        "      PHE = 70\n",
        "   if CATE >= 5 and CATE <= 8:\n",
        "      PHE = 0\n",
        "if HE > 30:\n",
        "   NSUE = SUE+(30*PHE)\n",
        "   print(NSUE)\n",
        "else: \n",
        "     HE < 30\n",
        "     NSUE = SUE+(HE*PHE)\n",
        "     print(NSUE)\n",
        "print(\"--FIN DEL PROGRAMA--\") "
      ],
      "execution_count": null,
      "outputs": [
        {
          "output_type": "stream",
          "name": "stdout",
          "text": [
            "Ingresa tu sueldo: 3350\n",
            "Indica tu categoria de trabajador de 1 a 8: 3\n",
            "Indica la cantidad de horas extra: 49\n",
            "4850\n",
            "--FIN DEL PROGRAMA--\n"
          ]
        }
      ]
    },
    {
      "cell_type": "markdown",
      "metadata": {
        "id": "CRSdFEShsAAG"
      },
      "source": [
        "Problema 2.13\n",
        "Determinar si el alumno pudo entrar a la carrera segun su promedio"
      ]
    },
    {
      "cell_type": "code",
      "metadata": {
        "id": "KInVOOhEtGLI"
      },
      "source": [
        "MAT = int(input(\"Ingresa tu matricula: \"))\n",
        "CARR = str(input(\"Ingresa la carrera en la que estas inscrito: \"))\n",
        "SEM = int(input(\"Indica en que semestre estas: \"))\n",
        "PROM = float(input(\"Ingresa tu promedio: \"))\n",
        "if CARR == Economía:\n",
        "   SEM >= 6 and PROM >= 8.8\n",
        "   print(MAT,CARR,\"Aceptado\")\n",
        "else:\n",
        "     if CARR == Compu:\n",
        "        SEM >= 6 and PROM >= 8.5\n",
        "        print(MAT,CARR,\"Aceptado\")\n",
        "     else:   \n",
        "          if CARR == Cont and CARR== Admi:\n",
        "             CARR == SEM > 5 and PROM > 8.5\n",
        "             print(MAT,CARR, \"Aceptado\")\n",
        "print(\"--FIN DEL PROGRAMA--\")   "
      ],
      "execution_count": null,
      "outputs": []
    }
  ]
}
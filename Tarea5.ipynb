{
  "nbformat": 4,
  "nbformat_minor": 0,
  "metadata": {
    "colab": {
      "name": "Tarea5.ipynb",
      "provenance": [],
      "authorship_tag": "ABX9TyMpikQHqEo6yu7NNjwokvZC",
      "include_colab_link": true
    },
    "kernelspec": {
      "name": "python3",
      "display_name": "Python 3"
    },
    "language_info": {
      "name": "python"
    }
  },
  "cells": [
    {
      "cell_type": "markdown",
      "metadata": {
        "id": "view-in-github",
        "colab_type": "text"
      },
      "source": [
        "<a href=\"https://colab.research.google.com/github/jaasielsoto/CompyProg2022G1157/blob/main/Tarea5.ipynb\" target=\"_parent\"><img src=\"https://colab.research.google.com/assets/colab-badge.svg\" alt=\"Open In Colab\"/></a>"
      ]
    },
    {
      "cell_type": "markdown",
      "metadata": {
        "id": "m0DjOdN7P5Ue"
      },
      "source": [
        "# Tarea \n",
        "1. Hacer un programa que\n",
        "pida dos números enteros y que imprima en pantalla lo siguiente:\n",
        "\n",
        "\n",
        "¿Cuál de ellos es el número mayor?\n",
        "¿Cuál de ellos es el número menor?\n",
        "\n",
        "o en su defecto\n",
        "¿Imprimir que los valores son iguales?"
      ]
    },
    {
      "cell_type": "code",
      "metadata": {
        "id": "dVTB0pIYPzwo",
        "colab": {
          "base_uri": "https://localhost:8080/"
        },
        "outputId": "e7958a4c-f664-4e20-e60e-c4508656cc87"
      },
      "source": [
        "numero1=float(input(\"Dame un número: \"))\n",
        "numero2=float(input(\"Dame tu segundo número: \"))\n",
        "print(f\"Capturaste {numero1}\")\n",
        "print(f\"Capturaste {numero2}\")\n",
        "if numero1 > numero2:\n",
        "    print(\"El numero1 es mayor\")\n",
        "elif numero1 < numero2:\n",
        "       print(\"El numero2 es mayor\")\n",
        "else:\n",
        "    print(\"Los dos numeros son iguales\")"
      ],
      "execution_count": null,
      "outputs": [
        {
          "output_type": "stream",
          "name": "stdout",
          "text": [
            "Dame un número1.5\n",
            "Dame tu segundo numero1.6\n",
            "Capturaste 1.5\n",
            "Capturaste 1.6\n",
            "El numero2 es mayor\n"
          ]
        }
      ]
    },
    {
      "cell_type": "markdown",
      "metadata": {
        "id": "LOGu5zySdazw"
      },
      "source": [
        "# Tarea 5 segunda parte de la tarea \n",
        " 2. Hacer un programa que solicite 3 números enteros diferentes entre sí y que imprima cuál de los 3 es el mayor"
      ]
    },
    {
      "cell_type": "code",
      "metadata": {
        "colab": {
          "base_uri": "https://localhost:8080/"
        },
        "id": "UrMx7xv3eA4R",
        "outputId": "4886364f-8c9b-4a90-c37b-52d0c32b1057"
      },
      "source": [
        "numero1=float(input(\"Dame un número: \"))\n",
        "numero2=float(input(\"Dame tu segundo número: \"))\n",
        "numero3=float(input(\"Dame el tercer número: \"))\n",
        "print(f\"Capturaste {numero1}\")\n",
        "print(f\"Capturaste {numero2}\")\n",
        "print(f\"Capturaste {numero3}\")\n",
        "if numero1 > numero2 and numero1 > numero3:\n",
        "    print(\"El número1 es mayor\")\n",
        "elif numero1 < numero2 and numero2 > numero3:\n",
        "    print(\"El número2 es mayor\")\n",
        "elif numero1 < numero3 and numero3 > numero2:\n",
        "    print(\"El número3 es mayor\")\n",
        "else:\n",
        "    print(\"Todos los números sin iguales \")"
      ],
      "execution_count": null,
      "outputs": [
        {
          "output_type": "stream",
          "name": "stdout",
          "text": [
            "Dame un número1\n",
            "Dame tu segundo número1\n",
            "Dame el tercer número1\n",
            "Capturaste 1.0\n",
            "Capturaste 1.0\n",
            "Capturaste 1.0\n",
            "Todos los números sin iguales \n"
          ]
        }
      ]
    },
    {
      "cell_type": "markdown",
      "metadata": {
        "id": "l9zvBlEGhXab"
      },
      "source": [
        "# Tarea 5 tercera parte \n",
        " 3. Hacer un programa que solicite 3 números enteros diferentes entre sí y que imprima cuál de los 3 es el menor"
      ]
    },
    {
      "cell_type": "code",
      "metadata": {
        "colab": {
          "base_uri": "https://localhost:8080/"
        },
        "id": "kKYfqPwDhmBZ",
        "outputId": "72e64f9d-ba3d-4ec7-da90-f2bbda1bd032"
      },
      "source": [
        "numero1=float(input(\"Dame un número: \"))\n",
        "numero2=float(input(\"Dame tu segundo número: \"))\n",
        "numero3=float(input(\"Dame el tercer número: \"))\n",
        "print(f\"Capturaste {numero1}\")\n",
        "print(f\"Capturaste {numero2}\")\n",
        "print(f\"Capturaste {numero3}\")\n",
        "if numero1 < numero2 and numero1 < numero3:\n",
        "    print(\"El número1 es el menor de los tres\")\n",
        "elif numero2 < numero1 and numero2 < numero3:\n",
        "    print(\"El número2 es el menor de los tres\")\n",
        "elif numero3 < numero1 and numero3 < numero2:\n",
        "    print(\"El número3 es el menor de los tres\")   \n",
        "else:\n",
        "    print(\"Todos los numeros son iguales\")"
      ],
      "execution_count": null,
      "outputs": [
        {
          "output_type": "stream",
          "name": "stdout",
          "text": [
            "Dame un número1\n",
            "Dame tu segundo número1\n",
            "Dame el tercer número1\n",
            "Capturaste 1.0\n",
            "Capturaste 1.0\n",
            "Capturaste 1.0\n",
            "Todos los numeros son iguales\n"
          ]
        }
      ]
    },
    {
      "cell_type": "markdown",
      "metadata": {
        "id": "KOaiEInMjNyd"
      },
      "source": [
        "# Tarea 5 cuarta parte de la tarea\n",
        "4. Hacer un programa que solicite 4 números enteros diferentes entre sí y que imprima a la salida cuál de ellos es el menor y cuál de ellos es el mayor\n"
      ]
    },
    {
      "cell_type": "code",
      "metadata": {
        "colab": {
          "base_uri": "https://localhost:8080/"
        },
        "id": "uKPahmf5jWnc",
        "outputId": "97a8b92b-a90f-4791-c7a1-7b616b80ee4f"
      },
      "source": [
        "numero1=float(input(\"Dame un número: \"))\n",
        "numero2=float(input(\"Dame tu segundo número: \"))\n",
        "numero3=float(input(\"Dame el tercer número: \"))\n",
        "numero4=float(input(\"Dame el cuarto número: \"))\n",
        "print(f\"Capturaste {numero1}\")\n",
        "print(f\"Capturaste {numero2}\")\n",
        "print(f\"Capturaste {numero3}\")\n",
        "print(f\"Capturaste {numero4}\")\n",
        "if numero1 > numero2 and numero1 > numero3 and numero1 > numero4:\n",
        "    print(\"El número1 es el mayor de todos\")\n",
        "elif numero1 < numero2 and numero1 < numero3 and numero1 < numero4:\n",
        "    print(\"El número1 es el menor de todos\")\n",
        "elif numero2 > numero1 and numero2 > numero3 and numero2 > numero4:\n",
        "    print(\"El número2 es el mayor de todos\")\n",
        "elif numero2 < numero1 and numero2 < numero3 and numero2 < numero4:\n",
        "    print(\"El número2 es el menor de todos\")\n",
        "elif numero3 > numero1 and numero3 > numero2 and numero3 > numero4:\n",
        "    print(\"El número3 es el mayor de todos\")\n",
        "elif numero3 < numero1 and numero3 < numero2 and numero3 < numero4:\n",
        "    print(\"El número3 es el menor de todos\")\n",
        "elif numero4 > numero1 and numero4 > numero2 and numero4 > numero3:\n",
        "    print(\"El número4 es el mayor de todos\")\n",
        "elif numero4 > numero1 and numero4 > numero2 and numero4 > numero3:\n",
        "    print(\"El número4 es el menor de todos\")\n",
        "else:\n",
        "    print(\"todos los numeros son iguales\")"
      ],
      "execution_count": null,
      "outputs": [
        {
          "output_type": "stream",
          "name": "stdout",
          "text": [
            "Dame un número: 1\n",
            "Dame tu segundo número: 1\n",
            "Dame el tercer número: 1\n",
            "Dame el cuarto número: 1\n",
            "Capturaste 1.0\n",
            "Capturaste 1.0\n",
            "Capturaste 1.0\n",
            "Capturaste 1.0\n",
            "todos los numeros son iguales\n"
          ]
        }
      ]
    }
  ]
}
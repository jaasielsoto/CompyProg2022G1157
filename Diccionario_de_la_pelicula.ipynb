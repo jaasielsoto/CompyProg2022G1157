{
  "nbformat": 4,
  "nbformat_minor": 0,
  "metadata": {
    "colab": {
      "name": "Diccionario de la pelicula.ipynb",
      "provenance": [],
      "authorship_tag": "ABX9TyPfYCwHF6IaCmHUTZdoowi1",
      "include_colab_link": true
    },
    "kernelspec": {
      "name": "python3",
      "display_name": "Python 3"
    },
    "language_info": {
      "name": "python"
    }
  },
  "cells": [
    {
      "cell_type": "markdown",
      "metadata": {
        "id": "view-in-github",
        "colab_type": "text"
      },
      "source": [
        "<a href=\"https://colab.research.google.com/github/jaasielsoto/CompyProg2022G1157/blob/main/Diccionario_de_la_pelicula.ipynb\" target=\"_parent\"><img src=\"https://colab.research.google.com/assets/colab-badge.svg\" alt=\"Open In Colab\"/></a>"
      ]
    },
    {
      "cell_type": "code",
      "metadata": {
        "id": "AOmsf-SLaBAN"
      },
      "source": [
        "pelicula= { \"nombre de la pelicula\": \"Shrek\",\n",
        "            \"peliculas\": {\n",
        "                \"shrek 1\": {\"año de salida\": \"2001\"},\n",
        "                \"shrek 2\": {\"año de salida\": \"2004\"},\n",
        "                \"shrek 3\": {\"año de salida\": \"2007\"},\n",
        "                \"shrek 4\": {\"año de salida\": \"2010\"}, \n",
        "            },\n",
        "            \"personajes\":{\n",
        "                \"protagonista\": [\"shrek\", \"burro\"],\n",
        "                \"secundarios\": [\"fiona\", \"Lord Farquaad\"]\n",
        "            },\n",
        "            \"presupuesto\":{\n",
        "               \"shrek 1\": {\"conto con\": \"60.00 mil dolares\",\n",
        "                           \"recaudo\":\"484.00 mil dolares\"\n",
        "                           }\n",
        "               \"shrek 2\": {\"conto con\": \"150.00 mil dolares\",\n",
        "                          \"recaudo\":\"954.00 mil dolares\"\n",
        "                           }\n",
        "               \"shrek 3\": {\"conto con\": \"160.00 mil dolares\",\n",
        "                          \"recaudo\":\"798.00 mil dolares\"\n",
        "                           }\n",
        "               \"shrek 4\": {\"conto con\": \"165.00 mil dolares\",\n",
        "                           \"recaudo\":\"752.00 mil dolares\"\n",
        "                           }\n",
        "            },\n",
        "            \"Duración\":{\n",
        "                \"shrek 1\":\"1 hora con 30 minutos\",\n",
        "                \"shrek 2\":\"1 hora con 33 minutos\",\n",
        "                \"shrek 3\":\"1 hora con 33 minutos\",\n",
        "                \"shrek 4\":\"1 hora con 33 minutos\"\n",
        "            },\n",
        "            \"Director\":{\n",
        "                \"shrek 1\":\"Andrew Adamson y Vicky Jenson\",\n",
        "                \"shrek 2\":\"Andrew Adamson,Kelly Asbury y Conrad Vernon\",\n",
        "                \"shrek 3\":\"Chris Miller\",\n",
        "                \"shrek 4\":\"Mike Mitchell\"\n",
        "}\n",
        "print(pelicula)"
      ],
      "execution_count": null,
      "outputs": []
    }
  ]
}
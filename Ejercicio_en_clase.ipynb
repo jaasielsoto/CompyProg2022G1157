{
  "nbformat": 4,
  "nbformat_minor": 0,
  "metadata": {
    "colab": {
      "name": "Ejercicio_en_clase.ipynb",
      "provenance": [],
      "authorship_tag": "ABX9TyNXTC5QOSpvoPv8BvhxxcbQ",
      "include_colab_link": true
    },
    "kernelspec": {
      "name": "python3",
      "display_name": "Python 3"
    },
    "language_info": {
      "name": "python"
    }
  },
  "cells": [
    {
      "cell_type": "markdown",
      "metadata": {
        "id": "view-in-github",
        "colab_type": "text"
      },
      "source": [
        "<a href=\"https://colab.research.google.com/github/jaasielsoto/CompyProg2022G1157/blob/main/Ejercicio_en_clase.ipynb\" target=\"_parent\"><img src=\"https://colab.research.google.com/assets/colab-badge.svg\" alt=\"Open In Colab\"/></a>"
      ]
    },
    {
      "cell_type": "code",
      "metadata": {
        "colab": {
          "base_uri": "https://localhost:8080/"
        },
        "id": "KDC1-Of6NDiG",
        "outputId": "169d6902-fa38-442f-cb7a-2fe589591fca"
      },
      "source": [
        "A=float(input(\"Dame el primer número\"))\n",
        "B=float(input(\"Dame el segundo número\"))\n",
        "C=float(input(\"Dame el tercer número\"))\n",
        "print(f\"Capturaste {A}\")\n",
        "print(f\"Capturaste {B}\")\n",
        "print(f\"Capturaste {C}\")\n",
        "if A == B and B==C and C==A:\n",
        "    print(\"Los numeros deben ser distintos\")\n",
        "elif A > B:\n",
        "    if A > C:  \n",
        "        if B > C:\n",
        "            print(f\"El orden de mayor a menor es:\",A, B, C)\n",
        "        else:\n",
        "            print(f\"El orden de mayor a menor es:\",A, C, B)\n",
        "    else: \n",
        "        print(f\"El orden de mayor a menor es:\", C,A,B)\n",
        "else:\n",
        "    if B > C:\n",
        "         if A > C:\n",
        "            print(\"El orden de mayor a menor es:\", B,A,C)\n",
        "         else: \n",
        "            print(f\"El orden de mayor a menor es:\",B,C,A)\n",
        "    else: \n",
        "        print(\"El orden de mayor a menor es:\",C,B,A)\n",
        "\n",
        "print(\"Fin del programa\")\n"
      ],
      "execution_count": null,
      "outputs": [
        {
          "output_type": "stream",
          "name": "stdout",
          "text": [
            "Dame el primer número5\n",
            "Dame el segundo número7\n",
            "Dame el tercer número8\n",
            "Capturaste 5.0\n",
            "Capturaste 7.0\n",
            "Capturaste 8.0\n",
            "El orden de mayor a menor es: 8.0 7.0 5.0\n",
            "Fin del programa\n"
          ]
        }
      ]
    }
  ]
}
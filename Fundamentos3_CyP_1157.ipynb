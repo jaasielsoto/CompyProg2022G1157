{
  "nbformat": 4,
  "nbformat_minor": 0,
  "metadata": {
    "colab": {
      "name": "Fundamentos3_CyP_1157.ipynb",
      "provenance": [],
      "authorship_tag": "ABX9TyPQpzSPBx6D64Xkm5NHQM3z",
      "include_colab_link": true
    },
    "kernelspec": {
      "name": "python3",
      "display_name": "Python 3"
    },
    "language_info": {
      "name": "python"
    }
  },
  "cells": [
    {
      "cell_type": "markdown",
      "metadata": {
        "id": "view-in-github",
        "colab_type": "text"
      },
      "source": [
        "<a href=\"https://colab.research.google.com/github/jaasielsoto/CompyProg2022G1157/blob/main/Fundamentos3_CyP_1157.ipynb\" target=\"_parent\"><img src=\"https://colab.research.google.com/assets/colab-badge.svg\" alt=\"Open In Colab\"/></a>"
      ]
    },
    {
      "cell_type": "markdown",
      "metadata": {
        "id": "NZkEgZXsFkCW"
      },
      "source": [
        "# Fecha: 23/11/2021"
      ]
    },
    {
      "cell_type": "markdown",
      "metadata": {
        "id": "h3p5jNnTFqYl"
      },
      "source": [
        "Repetición:\n",
        "\n",
        "Este tipo de estructura nos permite automatizar la ejecución repetitiva de código mientas ciertas condiciones s cumplan, tenemos 3 variantes de esta estructura en todos los lenguajes de programación:\n",
        "\n",
        "- Desde...hasta (estructura for)\n",
        "- haz mientras (structura While)\n",
        "- haz y luego validaz mientras( estructura Do-While)\n",
        "\n",
        "# FOR CON Python\n",
        " ```\n",
        " for j in range(10):\n",
        "    print(f\"Hola { j }\")\n",
        " ```\n",
        "\n",
        "# FON CON LENG C Y/O Java\n",
        " ```\n",
        " for(in j =0; j<10; j= j+1 ){\n",
        "     printf(\"Hola %i \\n\", j);\n",
        " }\n",
        "  ```\n",
        "  En todos los lenguajes de programación esiste un tipo especial de for, conocidocomo **for-each**\n",
        "# For-each en python\n",
        " ```\n",
        " for color inte colores:\n",
        "    print(f\"Este es el color:{color}\")\n",
        "  ```"
      ]
    },
    {
      "cell_type": "markdown",
      "metadata": {
        "id": "o4iMUtS4HwZN"
      },
      "source": [
        "#Funcion range()\n",
        " ```\n",
        "range(<INICIO>,<STOP>,<INCREMENTO>)\n",
        " ```\n",
        "tiene el mismo concepto de slicing \n",
        "el unico valor obligatorio es el <STOP>\n"
      ]
    },
    {
      "cell_type": "code",
      "metadata": {
        "colab": {
          "base_uri": "https://localhost:8080/"
        },
        "id": "iOmXPXU9FdCo",
        "outputId": "513fb89b-9231-448d-9de0-b99ffb02311f"
      },
      "source": [
        "# ejemplo de for range Desde hasta\n",
        "x= range(0,10,2) # este toma el valor por defecto que es 0 y se detiene en 10\n",
        "print(x)\n",
        "\n",
        "for j in range(10): # range (0,10) --> 0,1,2,3,4,5,6,7,8,9 itera \n",
        "    print(f\"Hola {j}\") # j es a la variable a la que se le va a asignar el valor de 1,2,3...\n",
        "\n",
        "print(\"-.-.-.-.-..-.-\")\n",
        "\n",
        "for j in range(0,10,2): # range (0,10) --> 0,2,4,6,8 itera \n",
        "    print(f\"Hola {j}\")\n",
        "\n",
        "frutas = [\"Uva\",\"aguacate\",\"pera\",\"manzana\",\"sandia\"] #el listado puede ser intercambiado por un for\n",
        "print(frutas[0])\n",
        "print(frutas[1])\n",
        "print(frutas[2])\n",
        "print(frutas[3])\n",
        "print(frutas[4])\n",
        "\n",
        "print(\"-----Frutas----\")\n",
        "for index in range(5):\n",
        "    print(frutas[index])\n",
        "\n"
      ],
      "execution_count": null,
      "outputs": [
        {
          "output_type": "stream",
          "name": "stdout",
          "text": [
            "range(0, 10, 2)\n",
            "Hola 0\n",
            "Hola 1\n",
            "Hola 2\n",
            "Hola 3\n",
            "Hola 4\n",
            "Hola 5\n",
            "Hola 6\n",
            "Hola 7\n",
            "Hola 8\n",
            "Hola 9\n",
            "-.-.-.-.-..-.-\n",
            "Hola 0\n",
            "Hola 2\n",
            "Hola 4\n",
            "Hola 6\n",
            "Hola 8\n",
            "Uva\n",
            "aguacate\n",
            "pera\n",
            "manzana\n",
            "sandia\n",
            "-----Frutas----\n",
            "Uva\n",
            "aguacate\n",
            "pera\n",
            "manzana\n",
            "sandia\n"
          ]
        }
      ]
    },
    {
      "cell_type": "markdown",
      "metadata": {
        "id": "JASJYCXlLUFO"
      },
      "source": [
        "- +++++\n",
        "- +++++\n",
        "- +++++\n",
        "- +++++"
      ]
    },
    {
      "cell_type": "code",
      "metadata": {
        "colab": {
          "base_uri": "https://localhost:8080/"
        },
        "id": "-avJkTgjLcyS",
        "outputId": "a98c6821-9b41-42e2-f82f-2eab842701ad"
      },
      "source": [
        "for j in range(5):\n",
        "    print(\"+++++\")"
      ],
      "execution_count": null,
      "outputs": [
        {
          "output_type": "stream",
          "name": "stdout",
          "text": [
            "+++++\n",
            "+++++\n",
            "+++++\n",
            "+++++\n",
            "+++++\n"
          ]
        }
      ]
    },
    {
      "cell_type": "markdown",
      "metadata": {
        "id": "tGfA1FPDLueo"
      },
      "source": [
        "- +\n",
        "- ++\n",
        "- +++\n",
        "- ++++\n",
        "- +++++\n",
        "- ++++++"
      ]
    },
    {
      "cell_type": "code",
      "metadata": {
        "colab": {
          "base_uri": "https://localhost:8080/"
        },
        "id": "wqdwoA5KL1fP",
        "outputId": "4e9adcb0-d11c-4132-b42c-503ad3b4498c"
      },
      "source": [
        "triangulo= [\"+\", \"++\", \"+++\", \"++++\",\"+++++\"]\n",
        "print(triangulo[0])\n",
        "print(triangulo[1])\n",
        "print(triangulo[2])\n",
        "print(triangulo[3])\n",
        "print(triangulo[4])\n",
        "\n",
        "for index in range(5):\n",
        "    print(triangulo[index])"
      ],
      "execution_count": null,
      "outputs": [
        {
          "output_type": "stream",
          "name": "stdout",
          "text": [
            "+\n",
            "++\n",
            "+++\n",
            "++++\n",
            "+++++\n",
            "+\n",
            "++\n",
            "+++\n",
            "++++\n",
            "+++++\n"
          ]
        }
      ]
    },
    {
      "cell_type": "markdown",
      "metadata": {
        "id": "vUVme8y-Mpu9"
      },
      "source": [
        "tarea \n",
        " 119"
      ]
    },
    {
      "cell_type": "markdown",
      "metadata": {
        "id": "sT8Jsf5aM31C"
      },
      "source": [
        "# Fecha: 25/11/21"
      ]
    },
    {
      "cell_type": "markdown",
      "metadata": {
        "id": "LRvmR8ivMjSt"
      },
      "source": [
        "117-123"
      ]
    },
    {
      "cell_type": "code",
      "metadata": {
        "colab": {
          "base_uri": "https://localhost:8080/"
        },
        "id": "b2NrRkwpL_nQ",
        "outputId": "7a5c8a81-48e0-46f2-d56a-b13fcfe0c8c2"
      },
      "source": [
        "# ejercicio 3.1\n",
        "for x in range(1,20,1):\n",
        "    print(x)\n",
        "print(\"Fin del programa\")\n",
        "\n",
        "for x in range(19,0,-1):\n",
        "    print(x)\n",
        "print(\"fin del programa\")"
      ],
      "execution_count": null,
      "outputs": [
        {
          "output_type": "stream",
          "name": "stdout",
          "text": [
            "1\n",
            "2\n",
            "3\n",
            "4\n",
            "5\n",
            "6\n",
            "7\n",
            "8\n",
            "9\n",
            "10\n",
            "11\n",
            "12\n",
            "13\n",
            "14\n",
            "15\n",
            "16\n",
            "17\n",
            "18\n",
            "19\n",
            "Fin del programa\n",
            "19\n",
            "18\n",
            "17\n",
            "16\n",
            "15\n",
            "14\n",
            "13\n",
            "12\n",
            "11\n",
            "10\n",
            "9\n",
            "8\n",
            "7\n",
            "6\n",
            "5\n",
            "4\n",
            "3\n",
            "2\n",
            "1\n",
            "fin del programa\n"
          ]
        }
      ]
    },
    {
      "cell_type": "code",
      "metadata": {
        "colab": {
          "base_uri": "https://localhost:8080/"
        },
        "id": "-oN1awWfNPLP",
        "outputId": "d340c59c-cf87-47fe-c27a-4f21e96198d5"
      },
      "source": [
        "# ejemplo 3.3 pag 121\n",
        "CUECER = 0\n",
        "NUM = 0\n",
        "N = int(input(\"Intyroduce un valor numerico mayor que 1: \"))\n",
        "for I in range(1,N + 1,1): #hay que ponerle n +1 incluya el stop\n",
        "    N = int(input(\"Intyroduce un valor numerico: \"))\n",
        "    if N == 0:\n",
        "        CUECER += 1\n",
        "print(\"CUECER\",CUECER)\n"
      ],
      "execution_count": null,
      "outputs": [
        {
          "output_type": "stream",
          "name": "stdout",
          "text": [
            "Intyroduce un valor numerico mayor que 14\n",
            "Intyroduce un valor numerico mayor que 15\n",
            "Intyroduce un valor numerico mayor que 11\n",
            "Intyroduce un valor numerico mayor que 10\n",
            "Intyroduce un valor numerico mayor que 10\n",
            "CUECER 2\n"
          ]
        }
      ]
    },
    {
      "cell_type": "markdown",
      "metadata": {
        "id": "u_lyRfdePs8M"
      },
      "source": [
        "La variable cuecer empieza en 0 \n",
        "La variable NUM comienza en 0\n",
        "N va a ser igual a nuestra entrada (input)\n",
        "- Ahora comienza el for\n",
        "for I in range (1,N + 1,1)\n",
        " - con este N va a marcar nuestra variable en el rango marcado y se va a tomar encuenta N más el stop\n",
        "- posteriormente repite el ciclo con nuevamente N\n",
        "ahora comienza nuestro IF\n",
        " - si N es 0, nuestro contador de CUECER aumenta en 1\n",
        "\n",
        " Posteriormente imprimimos el texto \"CUECER\", con el valor de CUECER si detecta un 0"
      ]
    },
    {
      "cell_type": "code",
      "metadata": {
        "id": "cCBxjWw3Q9Sb"
      },
      "source": [
        "for i in range(1,11,1):\n",
        "    print(f\"7 x {i} =\", 7*i)\n",
        "\n",
        "print(\"Segunda solución\")\n",
        "\n",
        "n=7\n",
        "for i in range(1,11,1):\n",
        "    x=n*i\n",
        "    print(f\"{n} x {i} = {x}\")"
      ],
      "execution_count": null,
      "outputs": []
    },
    {
      "cell_type": "markdown",
      "metadata": {
        "id": "gRodxcHrR5mS"
      },
      "source": [
        "¿Dame un número entre 1 y 5? : 2\n",
        "¿Dame un númeor entre 2 y 10?: 6\n",
        "\n",
        "\n"
      ]
    },
    {
      "cell_type": "code",
      "metadata": {
        "colab": {
          "base_uri": "https://localhost:8080/"
        },
        "id": "ifLtG96UR2Hk",
        "outputId": "b3d904e3-9f48-41e1-9e00-bdf19a7a4356"
      },
      "source": [
        "# ejercicio 2\n",
        "N1 = int(input(\"¿Dame un número entre 1 y 5?:\"))\n",
        "if N1 >= 1 and N1 <= 5:\n",
        "    N2 = int(input(f\"Dame un valor de {N1} y 10?:\"))\n",
        "    if N2 >= N1 and N2 <= 10:\n",
        "        for j in range(N1,N2 +1):\n",
        "            for l in range(1,11,1): \n",
        "                print(f\"{j} x {l} =\",j*l)\n",
        "            print(\"--------\")\n",
        "    else: \n",
        "        print(\"El numero que colocaste es incorrecto,debe ser un número entre N1 y 10\")\n",
        "else:\n",
        "    print(\"El numero que colocaste es incorrecto,debe ser un número entre 1 y 5\")\n",
        "print(\"FIN DEL PROGRAMA\")"
      ],
      "execution_count": null,
      "outputs": [
        {
          "output_type": "stream",
          "name": "stdout",
          "text": [
            "¿Dame un número entre 1 y 5?:5\n",
            "Dame un valor de 5 y 10?:-11\n",
            "El numero que colocaste es incorrecto,debe ser un número entre N1 y 10\n",
            "FIN DEL PROGRAMA\n"
          ]
        }
      ]
    },
    {
      "cell_type": "markdown",
      "metadata": {
        "id": "7Dvx9GiNWYkt"
      },
      "source": [
        "### Funfamentos CyP 2\n",
        "# esta parte va en listas\n",
        "Generadores de listas\n",
        "me permite crear listas con valores que yo necesite  "
      ]
    },
    {
      "cell_type": "code",
      "metadata": {
        "colab": {
          "base_uri": "https://localhost:8080/"
        },
        "id": "mxC7uPnJWYLH",
        "outputId": "5effeb80-fe93-46e9-b5a1-6e60912de1ad"
      },
      "source": [
        "# generadores de listas\n",
        "numeros = [0,0,0,0,0]\n",
        "print(numeros)\n",
        "numeros = [ 0 for x in range(5) ]\n",
        "print(numeros)\n",
        "# empleando la vaiable de control x para la variable inicial \n",
        "numeros = [ x for x in range(5)]\n",
        "print(numeros)\n",
        "# [10,20,30...100]\n",
        "numeros = [ x for x in range(10,101,10)]\n",
        "print(numeros)\n",
        "print(\"------\")\n",
        "numeros = [ (x+1)*10 for x in range(10)]\n",
        "print(numeros)\n",
        "print(\"------\")\n",
        "numeros = [ x*10 for x in range(1,11)]\n",
        "print(numeros)"
      ],
      "execution_count": null,
      "outputs": [
        {
          "output_type": "stream",
          "name": "stdout",
          "text": [
            "[0, 0, 0, 0, 0]\n",
            "[0, 0, 0, 0, 0]\n",
            "[0, 1, 2, 3, 4]\n",
            "[10, 20, 30, 40, 50, 60, 70, 80, 90, 100]\n",
            "------\n",
            "[10, 20, 30, 40, 50, 60, 70, 80, 90, 100]\n",
            "------\n",
            "[10, 20, 30, 40, 50, 60, 70, 80, 90, 100]\n"
          ]
        }
      ]
    },
    {
      "cell_type": "code",
      "metadata": {
        "colab": {
          "base_uri": "https://localhost:8080/"
        },
        "id": "sTpMpolnYUHQ",
        "outputId": "ead08c13-1bcb-455c-9dac-3076c22ca778"
      },
      "source": [
        "# ejercicio: Calcular promedio de edades\n",
        "Suma=0\n",
        "edades = [0 for x in range(5)]\n",
        "print(edades)\n",
        "for x in range(5):\n",
        "    edades[x]=int(input(\"Dame una edad: \"))\n",
        "    Suma= Suma+edades[x]\n",
        "print(edades)\n",
        "print(\"Promedio\",Suma/5)"
      ],
      "execution_count": null,
      "outputs": [
        {
          "output_type": "stream",
          "name": "stdout",
          "text": [
            "[0, 0, 0, 0, 0]\n",
            "Dame una edad: 8\n",
            "Dame una edad: 4\n",
            "Dame una edad: 6\n",
            "Dame una edad: 7\n",
            "Dame una edad: 9\n",
            "[8, 4, 6, 7, 9]\n",
            "Promedio 6.8\n"
          ]
        }
      ]
    },
    {
      "cell_type": "code",
      "metadata": {
        "colab": {
          "base_uri": "https://localhost:8080/"
        },
        "id": "R8CGrsDtcI8i",
        "outputId": "5819f50d-6e0c-45fb-d723-aa5eb1dfb3f0"
      },
      "source": [
        " edades = [(x+18) for x in range(5)]\n",
        " print(edades)\n",
        "promedio=sum(edades)/len(edades)\n",
        "print(promedio)"
      ],
      "execution_count": null,
      "outputs": [
        {
          "output_type": "stream",
          "name": "stdout",
          "text": [
            "[18, 19, 20, 21, 22]\n",
            "20.0\n"
          ]
        }
      ]
    },
    {
      "cell_type": "markdown",
      "metadata": {
        "id": "CDpnWLN6cmR_"
      },
      "source": [
        "#uso de random \n",
        "biblioteca random \n"
      ]
    },
    {
      "cell_type": "code",
      "metadata": {
        "colab": {
          "base_uri": "https://localhost:8080/"
        },
        "id": "bIEn6V8VcVIX",
        "outputId": "346a2374-9014-4d2d-ab4c-ee44bcf0a9c8"
      },
      "source": [
        "import random\n",
        "print(random.random())\n",
        "print(random.uniform(5,11))\n",
        "val=round(random.uniform(5,11),2)\n",
        "print(val)\n",
        "\n",
        "#T debe decir cual es el menor y cual es el mayor y el promedio\n",
        "valores = [round(random.uniform(5,11),2) for x in range(20)]\n",
        "print(valores)\n"
      ],
      "execution_count": null,
      "outputs": [
        {
          "output_type": "stream",
          "name": "stdout",
          "text": [
            "0.8736813003003416\n",
            "5.465177091807266\n",
            "6.76\n",
            "[5.49, 7.37, 6.24, 6.05, 6.88, 6.32, 10.87, 7.12, 7.57, 9.73, 5.55, 5.53, 7.84, 10.65, 7.45, 9.83, 5.28, 5.98, 7.58, 5.46]\n"
          ]
        }
      ]
    }
  ]
}
{
  "nbformat": 4,
  "nbformat_minor": 0,
  "metadata": {
    "colab": {
      "name": "Fundamentos3_CyP_1157.ipynb",
      "provenance": [],
      "authorship_tag": "ABX9TyNnTxX5CJHoUl2vyO0PhX1z",
      "include_colab_link": true
    },
    "kernelspec": {
      "name": "python3",
      "display_name": "Python 3"
    },
    "language_info": {
      "name": "python"
    }
  },
  "cells": [
    {
      "cell_type": "markdown",
      "metadata": {
        "id": "view-in-github",
        "colab_type": "text"
      },
      "source": [
        "<a href=\"https://colab.research.google.com/github/jaasielsoto/CompyProg2022G1157/blob/main/Fundamentos3_CyP_1157.ipynb\" target=\"_parent\"><img src=\"https://colab.research.google.com/assets/colab-badge.svg\" alt=\"Open In Colab\"/></a>"
      ]
    },
    {
      "cell_type": "markdown",
      "metadata": {
        "id": "NZkEgZXsFkCW"
      },
      "source": [
        "# Fecha: 23/11/2021"
      ]
    },
    {
      "cell_type": "markdown",
      "metadata": {
        "id": "h3p5jNnTFqYl"
      },
      "source": [
        "Repetición:\n",
        "\n",
        "Este tipo de estructura nos permite automatizar la ejecución repetitiva de código mientas ciertas condiciones s cumplan, tenemos 3 variantes de esta estructura en todos los lenguajes de programación:\n",
        "\n",
        "- Desde...hasta (estructura for)\n",
        "- haz mientras (structura While)\n",
        "- haz y luego validaz mientras( estructura Do-While)\n",
        "\n",
        "# FOR CON Python\n",
        " ```\n",
        " for j in range(10):\n",
        "    print(f\"Hola { j }\")\n",
        " ```\n",
        "\n",
        "# FON CON LENG C Y/O Java\n",
        " ```\n",
        " for(in j =0; j<10; j= j+1 ){\n",
        "     printf(\"Hola %i \\n\", j);\n",
        " }\n",
        "  ```\n",
        "  En todos los lenguajes de programación esiste un tipo especial de for, conocidocomo **for-each**\n",
        "# For-each en python\n",
        " ```\n",
        " for color inte colores:\n",
        "    print(f\"Este es el color:{color}\")\n",
        "  ```"
      ]
    },
    {
      "cell_type": "markdown",
      "metadata": {
        "id": "o4iMUtS4HwZN"
      },
      "source": [
        "#Funcion range()\n",
        " ```\n",
        "range(<INICIO>,<STOP>,<INCREMENTO>)\n",
        " ```\n",
        "tiene el mismo concepto de slicing \n",
        "el unico valor obligatorio es el <STOP>\n"
      ]
    },
    {
      "cell_type": "code",
      "metadata": {
        "colab": {
          "base_uri": "https://localhost:8080/"
        },
        "id": "iOmXPXU9FdCo",
        "outputId": "513fb89b-9231-448d-9de0-b99ffb02311f"
      },
      "source": [
        "# ejemplo de for range Desde hasta\n",
        "x= range(0,10,2) # este toma el valor por defecto que es 0 y se detiene en 10\n",
        "print(x)\n",
        "\n",
        "for j in range(10): # range (0,10) --> 0,1,2,3,4,5,6,7,8,9 itera \n",
        "    print(f\"Hola {j}\") # j es a la variable a la que se le va a asignar el valor de 1,2,3...\n",
        "\n",
        "print(\"-.-.-.-.-..-.-\")\n",
        "\n",
        "for j in range(0,10,2): # range (0,10) --> 0,2,4,6,8 itera \n",
        "    print(f\"Hola {j}\")\n",
        "\n",
        "frutas = [\"Uva\",\"aguacate\",\"pera\",\"manzana\",\"sandia\"] #el listado puede ser intercambiado por un for\n",
        "print(frutas[0])\n",
        "print(frutas[1])\n",
        "print(frutas[2])\n",
        "print(frutas[3])\n",
        "print(frutas[4])\n",
        "\n",
        "print(\"-----Frutas----\")\n",
        "for index in range(5):\n",
        "    print(frutas[index])\n",
        "\n"
      ],
      "execution_count": null,
      "outputs": [
        {
          "output_type": "stream",
          "name": "stdout",
          "text": [
            "range(0, 10, 2)\n",
            "Hola 0\n",
            "Hola 1\n",
            "Hola 2\n",
            "Hola 3\n",
            "Hola 4\n",
            "Hola 5\n",
            "Hola 6\n",
            "Hola 7\n",
            "Hola 8\n",
            "Hola 9\n",
            "-.-.-.-.-..-.-\n",
            "Hola 0\n",
            "Hola 2\n",
            "Hola 4\n",
            "Hola 6\n",
            "Hola 8\n",
            "Uva\n",
            "aguacate\n",
            "pera\n",
            "manzana\n",
            "sandia\n",
            "-----Frutas----\n",
            "Uva\n",
            "aguacate\n",
            "pera\n",
            "manzana\n",
            "sandia\n"
          ]
        }
      ]
    },
    {
      "cell_type": "markdown",
      "metadata": {
        "id": "JASJYCXlLUFO"
      },
      "source": [
        "- +++++\n",
        "- +++++\n",
        "- +++++\n",
        "- +++++"
      ]
    },
    {
      "cell_type": "code",
      "metadata": {
        "colab": {
          "base_uri": "https://localhost:8080/"
        },
        "id": "-avJkTgjLcyS",
        "outputId": "a98c6821-9b41-42e2-f82f-2eab842701ad"
      },
      "source": [
        "for j in range(5):\n",
        "    print(\"+++++\")"
      ],
      "execution_count": null,
      "outputs": [
        {
          "output_type": "stream",
          "name": "stdout",
          "text": [
            "+++++\n",
            "+++++\n",
            "+++++\n",
            "+++++\n",
            "+++++\n"
          ]
        }
      ]
    },
    {
      "cell_type": "markdown",
      "metadata": {
        "id": "tGfA1FPDLueo"
      },
      "source": [
        "- +\n",
        "- ++\n",
        "- +++\n",
        "- ++++\n",
        "- +++++\n",
        "- ++++++"
      ]
    },
    {
      "cell_type": "code",
      "metadata": {
        "colab": {
          "base_uri": "https://localhost:8080/"
        },
        "id": "wqdwoA5KL1fP",
        "outputId": "4e9adcb0-d11c-4132-b42c-503ad3b4498c"
      },
      "source": [
        "triangulo= [\"+\", \"++\", \"+++\", \"++++\",\"+++++\"]\n",
        "print(triangulo[0])\n",
        "print(triangulo[1])\n",
        "print(triangulo[2])\n",
        "print(triangulo[3])\n",
        "print(triangulo[4])\n",
        "\n",
        "for index in range(5):\n",
        "    print(triangulo[index])"
      ],
      "execution_count": null,
      "outputs": [
        {
          "output_type": "stream",
          "name": "stdout",
          "text": [
            "+\n",
            "++\n",
            "+++\n",
            "++++\n",
            "+++++\n",
            "+\n",
            "++\n",
            "+++\n",
            "++++\n",
            "+++++\n"
          ]
        }
      ]
    },
    {
      "cell_type": "markdown",
      "metadata": {
        "id": "vUVme8y-Mpu9"
      },
      "source": [
        "tarea \n",
        " 119"
      ]
    }
  ]
}
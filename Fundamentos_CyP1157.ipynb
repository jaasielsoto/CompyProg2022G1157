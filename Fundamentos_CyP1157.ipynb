{
  "nbformat": 4,
  "nbformat_minor": 0,
  "metadata": {
    "colab": {
      "name": "Fundamentos CyP1157",
      "provenance": [],
      "collapsed_sections": [],
      "authorship_tag": "ABX9TyMSLGK9VtQnHufbI6v5eMeT",
      "include_colab_link": true
    },
    "kernelspec": {
      "name": "python3",
      "display_name": "Python 3"
    },
    "language_info": {
      "name": "python"
    }
  },
  "cells": [
    {
      "cell_type": "markdown",
      "metadata": {
        "id": "view-in-github",
        "colab_type": "text"
      },
      "source": [
        "<a href=\"https://colab.research.google.com/github/jaasielsoto/CompyProg2022G1157/blob/main/Fundamentos_CyP1157.ipynb\" target=\"_parent\"><img src=\"https://colab.research.google.com/assets/colab-badge.svg\" alt=\"Open In Colab\"/></a>"
      ]
    },
    {
      "cell_type": "markdown",
      "metadata": {
        "id": "M75IQtiMAUq4"
      },
      "source": [
        "# fecha:12/10/21"
      ]
    },
    {
      "cell_type": "code",
      "metadata": {
        "id": "MXexFx5PVsJ2"
      },
      "source": [
        "nombre = 'jose' #Tipo de dato String (cadena de caracteres)\n",
        "  print(nombre) "
      ],
      "execution_count": null,
      "outputs": []
    },
    {
      "cell_type": "markdown",
      "metadata": {
        "id": "gFDeNzjLXM2A"
      },
      "source": [
        "# Tipos de datos en Python\n",
        "\n",
        "## Tipos simples \n",
        "\n",
        "- str --> String cadena de caractéres.\n",
        "- int --> Numeros enteros.\n",
        "- float -->Numeros con notación de punto flotante.\n",
        "- complex --> Numeros complejos raices negativas.\n",
        "- bool --> Boleano (True o Fals)\n",
        "- byte --> 8 bits\n",
        "\n",
        "## Tipos de datos estructurados (compuestos)\n",
        "\n",
        "- list --> Listas (Arreglos en otros lenguajes) mutables y duplas no mutables \n",
        "- tuple --> listas no mutables \n",
        "- dict --> diccionarios \n",
        "-  set y frozenset --> conjuntos \n",
        "\n",
        "\n"
      ]
    },
    {
      "cell_type": "code",
      "metadata": {
        "colab": {
          "base_uri": "https://localhost:8080/"
        },
        "id": "_w4LY99WaSIr",
        "outputId": "e1a4b8f0-73c9-4313-ae0e-1fe3765ec09f"
      },
      "source": [
        "import sys\n",
        "edad = 19 \n",
        "print(\"tu edad es:\",edad) #al final de una linea de codigo\n",
        "#este es un comentario de linea simple \n",
        "\"\"\"\n",
        "comentario de multiple linea \n",
        "en lenguje C, c++ y java el comentario multiple linea es con\n",
        "/*.....*/\n",
        "\n",
        "En lenguaje c.c++ y java el comentario de una linea es:\n",
        "//\n",
        "aqui puedes explicar en prosa el segmento de un codigo para futura revisión \n",
        "\"\"\"\n"
      ],
      "execution_count": null,
      "outputs": [
        {
          "output_type": "stream",
          "name": "stdout",
          "text": [
            "tu edad es: 19\n"
          ]
        }
      ]
    },
    {
      "cell_type": "markdown",
      "metadata": {
        "id": "o5QVjY2Banu1"
      },
      "source": [
        "- Las comillas las ponemos para hacer un comentario que son parte de nuestro programa para poder completarlo.\n",
        "\n",
        "- \"\"despues de la primer \" comilla el programa ignora lo que este dentro de las comillas y no afecta al programa.\n",
        "\n",
        "-La posibilidad de ponerle texto al programa es para ayuda del programador.\n",
        "el # lo usamos en Python "
      ]
    },
    {
      "cell_type": "code",
      "metadata": {
        "colab": {
          "base_uri": "https://localhost:8080/"
        },
        "id": "onYswTMUcT49",
        "outputId": "0662913c-4173-4d68-aeaf-c13917a3f7d8"
      },
      "source": [
        "import sys\n",
        "#Tipos de datos numericos  int y float \n",
        "edad = 19 \n",
        "print(\"tu edad es:\",edad)\n",
        "print (sys.getsizeof(edad)) #edad es una variable \n",
        "#el tipo de dato INT utiliza diferente cantdad de bits segun el \n",
        "#lenguaje de programación por ejemplo en C utiliza 16 bits\n",
        "edad = edad + 1\n",
        "print(edad)\n"
      ],
      "execution_count": null,
      "outputs": [
        {
          "output_type": "stream",
          "name": "stdout",
          "text": [
            "tu edad es: 19\n",
            "28\n",
            "20\n"
          ]
        }
      ]
    },
    {
      "cell_type": "markdown",
      "metadata": {
        "id": "m5qa2rM0c4VC"
      },
      "source": [
        "# la biblioteca sys \n",
        "- representa al sistema en python averiguar cuanto esta ocupando la variable en el sistema \n",
        "- representa a la computadora actual \n",
        "\n",
        "# getsizeof\n",
        "- muestra lo que representa en bits en nuestro programa usamos 28 bits\n",
        "- los datos e"
      ]
    },
    {
      "cell_type": "code",
      "metadata": {
        "colab": {
          "base_uri": "https://localhost:8080/"
        },
        "id": "wCUf6mO9ekAj",
        "outputId": "e99e206f-a9e7-4dad-aa82-3c65e59f7945"
      },
      "source": [
        "import sys\n",
        "estatura = 1.56 #declaro variable \n",
        "print( estatura) #imprimo el valor del variable \n",
        "print( sys.getsizeof(estatura))\n",
        "estatura = estatura + 0.1\n",
        "print( round(estatura,2)) \n",
        "#round hace que redonde y el 2 es hasta que digito tomara en este redondeara \n",
        "#a 2 decimales \n"
      ],
      "execution_count": null,
      "outputs": [
        {
          "output_type": "stream",
          "name": "stdout",
          "text": [
            "1.56\n",
            "24\n",
            "1.66\n"
          ]
        }
      ]
    },
    {
      "cell_type": "markdown",
      "metadata": {
        "id": "d1B7KN9_fFzw"
      },
      "source": [
        "# Valores flotantes\n",
        "- es importante hacer la limitacion de la presición de la limitacion de los valores \n",
        "-  se debe limitar en binario (acotarlo a ciertos decimales)\n",
        "- o redondear round hace que redonde y el 2 es hasta que digito tomara en este redondeara a 2 decimales \n",
        "- en c un flotante usa 4 bits y usa 32 bits  "
      ]
    },
    {
      "cell_type": "code",
      "metadata": {
        "colab": {
          "base_uri": "https://localhost:8080/"
        },
        "id": "dIPnyw7QgPLP",
        "outputId": "3a7be138-85c5-437a-ba9c-d8fa05f19d0c"
      },
      "source": [
        "edad=21\n",
        "#Suma\n",
        "edad +=1  #edad = edad + 1\n",
        "print(\"tu edad es \", edad)\n",
        "\n",
        "#Resta\n",
        "edad -=1   #edad = edad - 1\n",
        "print(\"tu edad es\", edad)\n",
        "\n",
        "\n",
        "#División \n",
        "edad /=2 \n",
        "print(\"tu edad es\", edad)\n",
        "\n",
        "edad = 21\n",
        "# volver a calcular la mitad de la edad pero solo dejar\n",
        "#la parte entera \n",
        "edad = edad // 2  #la diagonal diagonal obliga a dar numeros enteros\n",
        "print(\"la mitad de tu edad es\", edad)\n",
        "\n",
        "# en la mayoria de los leng no permite operaciones entre \n",
        "#diferentes tipos de datos, en Python\n",
        "numero= edad / 2.0\n",
        "print(numero)\n",
        "\n",
        "#multiplicación \n",
        "numero *=3       #numero *3 simplifica la expresión \n",
        "print(numero)\n",
        "\n",
        "\n",
        "# Potecias \n",
        "numero= 5.0\n",
        "numero **= 2 #numero ** 2 no tiene una simplificación  en otros lenguajes pero python si\n",
        "print(numero)\n",
        "\n",
        "\n",
        "\n",
        "#Operador modulo\n",
        "\n",
        "numero=21\n",
        "print( numero /2)\n",
        "print( numero //2)\n",
        "\n",
        "# el operador módulo da como resultado el residuo de una división entera\n",
        "\n",
        "print( numero % 2) #la mayoria de lenguajes el módulo se simboliza con el %\n",
        "\n",
        "numero = 24\n",
        "print(\"Residuo de 24/5:\", numero % 5)\n",
        "print( numero % 2 ==0)\n",
        " #es importante para calculos \n",
        " #saber si un numero es multiplo de otro\n",
        "\n",
        "\n"
      ],
      "execution_count": null,
      "outputs": [
        {
          "output_type": "stream",
          "name": "stdout",
          "text": [
            "tu edad es  22\n",
            "tu edad es 21\n",
            "tu edad es 10.5\n",
            "la mitad de tu edad es 10\n",
            "5.0\n",
            "15.0\n",
            "25.0\n",
            "10.5\n",
            "10\n",
            "1\n",
            "Residuo de 24/5: 4\n",
            "True\n"
          ]
        }
      ]
    },
    {
      "cell_type": "markdown",
      "metadata": {
        "id": "notKLkW4gc2e"
      },
      "source": [
        "+= es lo mismo que ahumentarle a edad 1\n",
        "- en python la división siempre te dara punto decimal \n",
        "\n",
        "- en el caso de Python deja hacer operaciones entre diferentes variables \n"
      ]
    },
    {
      "cell_type": "markdown",
      "metadata": {
        "id": "G1rDM65QnOmL"
      },
      "source": [
        "#Operadores Relacionales \n",
        "- cada lenguaje implementa distintas cosas o puede ser igual\n",
        "\n",
        "- = igual que  \n",
        "- <> Diferente\n",
        "- < Menor que\n",
        "- > Mayor que\n",
        "- <= Menor o igual\n",
        "- >= Mayor o igual que \n",
        "\n"
      ]
    },
    {
      "cell_type": "code",
      "metadata": {
        "colab": {
          "base_uri": "https://localhost:8080/"
        },
        "id": "ooOkBNC0nNtt",
        "outputId": "9000c4d6-ba0f-44d5-c251-51456668f5dc"
      },
      "source": [
        "#Operadores Relacionales (logicos)\n",
        "#igual\n",
        "numero = 24\n",
        "print(\"24 es par?:\", numero % 5)\n",
        "print( numero % 2 ==0)\n",
        "\n",
        "#diferencia\n",
        "print(\"247 es diferete de 23:\", numero != 23)\n",
        "print(\"24 es mayor que 23:\", numero > 23)\n",
        "print(\"24 es menor que 23:\", numero < 23)\n",
        "\n",
        "print(\"24 es mayor o igual que 24:\", numero >= 24)\n",
        "print(\"24 es menor o igual que 24:\", numero <= 23)\n",
        "\n",
        "print(\"El tipo de dato de la variable numero es:\" , type (numero))\n",
        "print(\"El tipo de dato de la variable entre 2 es:\" , type (numero / 2))\n",
        " #es importante para calculos \n",
        " #saber si un numero es multiplo de otro"
      ],
      "execution_count": null,
      "outputs": [
        {
          "output_type": "stream",
          "name": "stdout",
          "text": [
            "24 es par?: 4\n",
            "True\n",
            "247 es diferete de 23: True\n",
            "24 es mayor que 23: True\n",
            "24 es menor que 23: False\n",
            "24 es mayor o igual que 24: True\n",
            "24 es menor o igual que 24: False\n",
            "El tipo de dato de la variable numero es: <class 'int'>\n",
            "El tipo de dato de la variable entre 2 es: <class 'float'>\n"
          ]
        }
      ]
    },
    {
      "cell_type": "markdown",
      "metadata": {
        "id": "AL6Cdw7spii0"
      },
      "source": [
        "# Tipo de dato String (str) en Python \n",
        "\n",
        "- Se maneja como un arreglo (tipo de dato compuesto)\n",
        "- Sepuede acceder a los elementos de el string por medio del índice del caracter.\n",
        "- Mutable\n",
        "-  Tiene métodos útiles (Potentes)\n",
        "- slicing\n",
        "\n",
        "- hay cuatro formas de usar un str\n",
        "\n",
        "-si es solo de una linea es con '' comillas simples\n",
        "\n",
        "-si son mas de una utilizar las triples comillas \"\"\"\n",
        "\n",
        "- o usar str( \"Perez\" )\n"
      ]
    },
    {
      "cell_type": "code",
      "metadata": {
        "colab": {
          "base_uri": "https://localhost:8080/"
        },
        "id": "fcCvvMWvqE9b",
        "outputId": "1a3b9d91-589c-46e3-8679-a7470b08f386"
      },
      "source": [
        "#primero hay que ver como se define una variable str\n",
        "\n",
        "nombre = 'jose'\n",
        "carrera = \"Ingeniería en computación\"\n",
        "frase = \"\"\"El conocimiento\n",
        "me persigue,....\n",
        "pero\n",
        "yo soy mas rápido\"\"\" \n",
        "\n",
        "print( nombre )\n",
        "print( carrera ) \n",
        "print( frase )\n",
        "\n",
        "# La funcion type de pyton te devuelve el tipo de dato de una variable (o expresión)\n",
        "print(type (nombre))\n",
        "\n",
        "paterno = str( \"Perez\") #orientado a objetos \n",
        "print( paterno)\n"
      ],
      "execution_count": null,
      "outputs": [
        {
          "output_type": "stream",
          "name": "stdout",
          "text": [
            "jose\n",
            "Ingeniería en computación\n",
            "El conocimiento\n",
            "me persigue,....\n",
            "pero\n",
            "yo soy mas rápido\n",
            "<class 'str'>\n"
          ]
        }
      ]
    },
    {
      "cell_type": "markdown",
      "metadata": {
        "id": "gztO6rIYsPvP"
      },
      "source": [
        "#Type \n",
        "nos da que tipo de valor es "
      ]
    },
    {
      "cell_type": "markdown",
      "metadata": {
        "id": "Ux2_QbfEpH7v"
      },
      "source": [
        "   #Class\n",
        "  \n",
        "- Una clase(class) es un tipo de dato compuesto\n",
        "- Para saber mas del arreglo leer en el libro \"Metodologia de la Programación\" capitulo 4 conceptos de arreglos pag.184"
      ]
    },
    {
      "cell_type": "code",
      "metadata": {
        "colab": {
          "base_uri": "https://localhost:8080/"
        },
        "id": "FzCt_-ispThD",
        "outputId": "5af0a516-5fee-4640-a44e-fe9316e00b7a"
      },
      "source": [
        "carrera = \"Ingeniería en computación\"\n",
        "print( carrera )\n",
        "print(carrera[2])"
      ],
      "execution_count": null,
      "outputs": [
        {
          "output_type": "stream",
          "name": "stdout",
          "text": [
            "Ingeniería en computación\n",
            "g\n"
          ]
        }
      ]
    },
    {
      "cell_type": "markdown",
      "metadata": {
        "id": "fSIQIv8d_Anu"
      },
      "source": [
        "#Fecha:14/10/21 "
      ]
    },
    {
      "cell_type": "markdown",
      "metadata": {
        "id": "H96Pm92wrP8N"
      },
      "source": [
        "Todo tipo de dato lista/arreglo siempre empieza en indice 0\n",
        "\n",
        "\n",
        "#A la sintaxis escrita para elegir un elemento de un grupo de datos se llama selector\n",
        "En el casso de Strings y listas (lst)\n",
        "se usan los caracteres '[' y ']'\n",
        "\n",
        "1. En todos los lenguajes los arreglos inician en 0.\n",
        "2. En python no existe como tal el tipo de dato arreglo, el concepto es sustituido por las listas.\n",
        "3. Los Strings se comportan como un arreglo en la mayoria de los lenguajes.\n",
        "4. En python se acepta el indexado negativo, en otros lenguajes NO.\n"
      ]
    },
    {
      "cell_type": "code",
      "metadata": {
        "colab": {
          "base_uri": "https://localhost:8080/"
        },
        "id": "bn14fwGjsf2t",
        "outputId": "b1c10b94-aa58-4c08-8ecb-0cd2ae8dad54"
      },
      "source": [
        "carrera = \"Ingeniería en computación\"\n",
        "print( carrera [8])\n",
        "print(carrera[-1])\n",
        "print(carrera[-25])\n",
        "\n",
        "#Adelantando el tema ciclo FOR\n",
        "\n",
        "for letra in carrera:  #ciclo for itera sobre carrera\n",
        "    print(\"-->\", letra, \"<--\" )"
      ],
      "execution_count": null,
      "outputs": [
        {
          "output_type": "stream",
          "name": "stdout",
          "text": [
            "í\n",
            "n\n",
            "I\n",
            "--> I <--\n",
            "--> n <--\n",
            "--> g <--\n",
            "--> e <--\n",
            "--> n <--\n",
            "--> i <--\n",
            "--> e <--\n",
            "--> r <--\n",
            "--> í <--\n",
            "--> a <--\n",
            "-->   <--\n",
            "--> e <--\n",
            "--> n <--\n",
            "-->   <--\n",
            "--> c <--\n",
            "--> o <--\n",
            "--> m <--\n",
            "--> p <--\n",
            "--> u <--\n",
            "--> t <--\n",
            "--> a <--\n",
            "--> c <--\n",
            "--> i <--\n",
            "--> ó <--\n",
            "--> n <--\n"
          ]
        }
      ]
    },
    {
      "cell_type": "markdown",
      "metadata": {
        "id": "erf9vFK1u7Tg"
      },
      "source": [
        "#Slicing (rebanado) de cadenas \n",
        "\n",
        "Permite seleccionar subcadenas con el operador \n",
        "####[  inicio : stop :  incremento ]\n",
        "\n",
        "El stop no se incluye, es por eso que debemos agregar una posicion extra\n",
        "\n",
        "### Slicing y valkores por defecto\n",
        "\n",
        "Inicio por defecto siempre sera 0 \n",
        "stop: tamaño del arreglo (indexado positivo)\n",
        "        0 (en un indexado negativo)\n",
        "Incremento: es 1 (indexado positivo)\n"
      ]
    },
    {
      "cell_type": "code",
      "metadata": {
        "colab": {
          "base_uri": "https://localhost:8080/"
        },
        "id": "yFCCw-edvRIR",
        "outputId": "54d1992a-f61f-40ee-d93c-d14df86519f2"
      },
      "source": [
        "carrera = \"Ingeniería en computación\"\n",
        "print( carrera[0:10:1])\n",
        "print( carrera[14:25:1])\n",
        "# lo mismo pero con indexado negativo ??\n",
        "print( carrera[-11:-1:1]) #el -1 es por donde inicia \n",
        "print( carrera[:10:])# al quitar los valores toma por defecto 0\n",
        "print( carrera[-11: :1]) \n",
        "\n",
        "\n",
        "#solucion previa\n",
        "print(\"--------\")\n",
        "print(carrera[-11:-1:1])\n",
        "print(carrera[-11: :1])\n",
        "\n",
        "# un ejercicio más para ver incremento \n",
        "print( carrera[0:10:2]) #incremento es ese 2 da saltos dependiendo el numero \n",
        "# que pongas\n",
        "print( carrera[-1:-12:-1])\n",
        "print(carrera[25:13:-1])"
      ],
      "execution_count": null,
      "outputs": [
        {
          "output_type": "stream",
          "name": "stdout",
          "text": [
            "Ingeniería\n",
            "computación\n",
            "computació\n",
            "Ingeniería\n",
            "computación\n",
            "--------\n",
            "computació\n",
            "computación\n",
            "Igneí\n",
            "nóicatupmoc\n",
            "nóicatupmoc\n"
          ]
        }
      ]
    },
    {
      "cell_type": "markdown",
      "metadata": {
        "id": "6ZLKIQhDwsCS"
      },
      "source": [
        "Al usar  : :-1 el -1 hace que python use el indexado negativo\n",
        "al poner -11:0:-1 No manejara nada porque el 0 en el indexado negativo como tal no esta "
      ]
    },
    {
      "cell_type": "markdown",
      "metadata": {
        "id": "4A5bkbz80nq9"
      },
      "source": [
        "# String y sus métodos\n",
        "# Todos los tipos de datos en Python son objetos (CLASES DE LA PROGRAMACIÖN ORIENTADA A OBJETOS)\n",
        "### lo cual significa que tiene atributos y métodos \n",
        "## dir() y help() funciones para obtener ayuda del lenguaje Python \n",
        "\n",
        "### dir muestra las funciones de un tipo de dato como resumen\n",
        " \n",
        "### help muestra la misma ayuda pero a detalle\n",
        "\n",
        "### metodo Segmento de un tipo de dato que hace cosas\n",
        "###Los que empiezan con__ son metodos privados\n",
        "### meetodos que inician con doble guion bajo son privados de uso interno de beriamos usarlos \n",
        "\n",
        "### Todos los demas son para uso exterior (usuario)\n"
      ]
    },
    {
      "cell_type": "code",
      "metadata": {
        "colab": {
          "base_uri": "https://localhost:8080/"
        },
        "id": "-DvGhdCe1Aup",
        "outputId": "3d950e9a-dd3d-4b93-8df6-ced953eeaa6f"
      },
      "source": [
        "frutas = \" limon, fresa , manzana  , aguacate  \"\n",
        "nombre = \"jose\"\n",
        "print(frutas)\n",
        "dir(frutas) #da metodos programacion orientada a objetos objetos atributos\n",
        "# estados Humanos, estatura,nombre,etc\n",
        "# define su estado\n",
        "#Comportamientos: realizan acciones dentro de es clase de objetos\n",
        "# hacer algo es un metodo Segmento de un tipo de dato que hace cosas \n",
        "print(nombre.capitalize())# pone mayuscula la primer letra \n",
        "print(nombre.upper())# hace toda la cadena en mayusculas \n",
        "\n",
        "help(str)# me despliega con mayor detalle cada metodo\n",
        "\n",
        "print(frutas.replace ( 'a' , '4' ).replace( 'e' , '3').upper() ) \n",
        "#solo modifica momentaneamente la cadena orignal\n",
        "#se pueden encadenar mas de un metodo\n",
        "frutas= frutas.replace ( 'a' , '4' ).replace( 'e' , '3').upper()\n",
        "print(frutas)\n",
        "#asi hacemos el cambio permanete\n"
      ],
      "execution_count": null,
      "outputs": [
        {
          "output_type": "stream",
          "name": "stdout",
          "text": [
            " limon, fresa , manzana  , aguacate  \n",
            "Jose\n",
            "JOSE\n",
            "Help on class str in module builtins:\n",
            "\n",
            "class str(object)\n",
            " |  str(object='') -> str\n",
            " |  str(bytes_or_buffer[, encoding[, errors]]) -> str\n",
            " |  \n",
            " |  Create a new string object from the given object. If encoding or\n",
            " |  errors is specified, then the object must expose a data buffer\n",
            " |  that will be decoded using the given encoding and error handler.\n",
            " |  Otherwise, returns the result of object.__str__() (if defined)\n",
            " |  or repr(object).\n",
            " |  encoding defaults to sys.getdefaultencoding().\n",
            " |  errors defaults to 'strict'.\n",
            " |  \n",
            " |  Methods defined here:\n",
            " |  \n",
            " |  __add__(self, value, /)\n",
            " |      Return self+value.\n",
            " |  \n",
            " |  __contains__(self, key, /)\n",
            " |      Return key in self.\n",
            " |  \n",
            " |  __eq__(self, value, /)\n",
            " |      Return self==value.\n",
            " |  \n",
            " |  __format__(self, format_spec, /)\n",
            " |      Return a formatted version of the string as described by format_spec.\n",
            " |  \n",
            " |  __ge__(self, value, /)\n",
            " |      Return self>=value.\n",
            " |  \n",
            " |  __getattribute__(self, name, /)\n",
            " |      Return getattr(self, name).\n",
            " |  \n",
            " |  __getitem__(self, key, /)\n",
            " |      Return self[key].\n",
            " |  \n",
            " |  __getnewargs__(...)\n",
            " |  \n",
            " |  __gt__(self, value, /)\n",
            " |      Return self>value.\n",
            " |  \n",
            " |  __hash__(self, /)\n",
            " |      Return hash(self).\n",
            " |  \n",
            " |  __iter__(self, /)\n",
            " |      Implement iter(self).\n",
            " |  \n",
            " |  __le__(self, value, /)\n",
            " |      Return self<=value.\n",
            " |  \n",
            " |  __len__(self, /)\n",
            " |      Return len(self).\n",
            " |  \n",
            " |  __lt__(self, value, /)\n",
            " |      Return self<value.\n",
            " |  \n",
            " |  __mod__(self, value, /)\n",
            " |      Return self%value.\n",
            " |  \n",
            " |  __mul__(self, value, /)\n",
            " |      Return self*value.\n",
            " |  \n",
            " |  __ne__(self, value, /)\n",
            " |      Return self!=value.\n",
            " |  \n",
            " |  __repr__(self, /)\n",
            " |      Return repr(self).\n",
            " |  \n",
            " |  __rmod__(self, value, /)\n",
            " |      Return value%self.\n",
            " |  \n",
            " |  __rmul__(self, value, /)\n",
            " |      Return value*self.\n",
            " |  \n",
            " |  __sizeof__(self, /)\n",
            " |      Return the size of the string in memory, in bytes.\n",
            " |  \n",
            " |  __str__(self, /)\n",
            " |      Return str(self).\n",
            " |  \n",
            " |  capitalize(self, /)\n",
            " |      Return a capitalized version of the string.\n",
            " |      \n",
            " |      More specifically, make the first character have upper case and the rest lower\n",
            " |      case.\n",
            " |  \n",
            " |  casefold(self, /)\n",
            " |      Return a version of the string suitable for caseless comparisons.\n",
            " |  \n",
            " |  center(self, width, fillchar=' ', /)\n",
            " |      Return a centered string of length width.\n",
            " |      \n",
            " |      Padding is done using the specified fill character (default is a space).\n",
            " |  \n",
            " |  count(...)\n",
            " |      S.count(sub[, start[, end]]) -> int\n",
            " |      \n",
            " |      Return the number of non-overlapping occurrences of substring sub in\n",
            " |      string S[start:end].  Optional arguments start and end are\n",
            " |      interpreted as in slice notation.\n",
            " |  \n",
            " |  encode(self, /, encoding='utf-8', errors='strict')\n",
            " |      Encode the string using the codec registered for encoding.\n",
            " |      \n",
            " |      encoding\n",
            " |        The encoding in which to encode the string.\n",
            " |      errors\n",
            " |        The error handling scheme to use for encoding errors.\n",
            " |        The default is 'strict' meaning that encoding errors raise a\n",
            " |        UnicodeEncodeError.  Other possible values are 'ignore', 'replace' and\n",
            " |        'xmlcharrefreplace' as well as any other name registered with\n",
            " |        codecs.register_error that can handle UnicodeEncodeErrors.\n",
            " |  \n",
            " |  endswith(...)\n",
            " |      S.endswith(suffix[, start[, end]]) -> bool\n",
            " |      \n",
            " |      Return True if S ends with the specified suffix, False otherwise.\n",
            " |      With optional start, test S beginning at that position.\n",
            " |      With optional end, stop comparing S at that position.\n",
            " |      suffix can also be a tuple of strings to try.\n",
            " |  \n",
            " |  expandtabs(self, /, tabsize=8)\n",
            " |      Return a copy where all tab characters are expanded using spaces.\n",
            " |      \n",
            " |      If tabsize is not given, a tab size of 8 characters is assumed.\n",
            " |  \n",
            " |  find(...)\n",
            " |      S.find(sub[, start[, end]]) -> int\n",
            " |      \n",
            " |      Return the lowest index in S where substring sub is found,\n",
            " |      such that sub is contained within S[start:end].  Optional\n",
            " |      arguments start and end are interpreted as in slice notation.\n",
            " |      \n",
            " |      Return -1 on failure.\n",
            " |  \n",
            " |  format(...)\n",
            " |      S.format(*args, **kwargs) -> str\n",
            " |      \n",
            " |      Return a formatted version of S, using substitutions from args and kwargs.\n",
            " |      The substitutions are identified by braces ('{' and '}').\n",
            " |  \n",
            " |  format_map(...)\n",
            " |      S.format_map(mapping) -> str\n",
            " |      \n",
            " |      Return a formatted version of S, using substitutions from mapping.\n",
            " |      The substitutions are identified by braces ('{' and '}').\n",
            " |  \n",
            " |  index(...)\n",
            " |      S.index(sub[, start[, end]]) -> int\n",
            " |      \n",
            " |      Return the lowest index in S where substring sub is found, \n",
            " |      such that sub is contained within S[start:end].  Optional\n",
            " |      arguments start and end are interpreted as in slice notation.\n",
            " |      \n",
            " |      Raises ValueError when the substring is not found.\n",
            " |  \n",
            " |  isalnum(self, /)\n",
            " |      Return True if the string is an alpha-numeric string, False otherwise.\n",
            " |      \n",
            " |      A string is alpha-numeric if all characters in the string are alpha-numeric and\n",
            " |      there is at least one character in the string.\n",
            " |  \n",
            " |  isalpha(self, /)\n",
            " |      Return True if the string is an alphabetic string, False otherwise.\n",
            " |      \n",
            " |      A string is alphabetic if all characters in the string are alphabetic and there\n",
            " |      is at least one character in the string.\n",
            " |  \n",
            " |  isascii(self, /)\n",
            " |      Return True if all characters in the string are ASCII, False otherwise.\n",
            " |      \n",
            " |      ASCII characters have code points in the range U+0000-U+007F.\n",
            " |      Empty string is ASCII too.\n",
            " |  \n",
            " |  isdecimal(self, /)\n",
            " |      Return True if the string is a decimal string, False otherwise.\n",
            " |      \n",
            " |      A string is a decimal string if all characters in the string are decimal and\n",
            " |      there is at least one character in the string.\n",
            " |  \n",
            " |  isdigit(self, /)\n",
            " |      Return True if the string is a digit string, False otherwise.\n",
            " |      \n",
            " |      A string is a digit string if all characters in the string are digits and there\n",
            " |      is at least one character in the string.\n",
            " |  \n",
            " |  isidentifier(self, /)\n",
            " |      Return True if the string is a valid Python identifier, False otherwise.\n",
            " |      \n",
            " |      Use keyword.iskeyword() to test for reserved identifiers such as \"def\" and\n",
            " |      \"class\".\n",
            " |  \n",
            " |  islower(self, /)\n",
            " |      Return True if the string is a lowercase string, False otherwise.\n",
            " |      \n",
            " |      A string is lowercase if all cased characters in the string are lowercase and\n",
            " |      there is at least one cased character in the string.\n",
            " |  \n",
            " |  isnumeric(self, /)\n",
            " |      Return True if the string is a numeric string, False otherwise.\n",
            " |      \n",
            " |      A string is numeric if all characters in the string are numeric and there is at\n",
            " |      least one character in the string.\n",
            " |  \n",
            " |  isprintable(self, /)\n",
            " |      Return True if the string is printable, False otherwise.\n",
            " |      \n",
            " |      A string is printable if all of its characters are considered printable in\n",
            " |      repr() or if it is empty.\n",
            " |  \n",
            " |  isspace(self, /)\n",
            " |      Return True if the string is a whitespace string, False otherwise.\n",
            " |      \n",
            " |      A string is whitespace if all characters in the string are whitespace and there\n",
            " |      is at least one character in the string.\n",
            " |  \n",
            " |  istitle(self, /)\n",
            " |      Return True if the string is a title-cased string, False otherwise.\n",
            " |      \n",
            " |      In a title-cased string, upper- and title-case characters may only\n",
            " |      follow uncased characters and lowercase characters only cased ones.\n",
            " |  \n",
            " |  isupper(self, /)\n",
            " |      Return True if the string is an uppercase string, False otherwise.\n",
            " |      \n",
            " |      A string is uppercase if all cased characters in the string are uppercase and\n",
            " |      there is at least one cased character in the string.\n",
            " |  \n",
            " |  join(self, iterable, /)\n",
            " |      Concatenate any number of strings.\n",
            " |      \n",
            " |      The string whose method is called is inserted in between each given string.\n",
            " |      The result is returned as a new string.\n",
            " |      \n",
            " |      Example: '.'.join(['ab', 'pq', 'rs']) -> 'ab.pq.rs'\n",
            " |  \n",
            " |  ljust(self, width, fillchar=' ', /)\n",
            " |      Return a left-justified string of length width.\n",
            " |      \n",
            " |      Padding is done using the specified fill character (default is a space).\n",
            " |  \n",
            " |  lower(self, /)\n",
            " |      Return a copy of the string converted to lowercase.\n",
            " |  \n",
            " |  lstrip(self, chars=None, /)\n",
            " |      Return a copy of the string with leading whitespace removed.\n",
            " |      \n",
            " |      If chars is given and not None, remove characters in chars instead.\n",
            " |  \n",
            " |  partition(self, sep, /)\n",
            " |      Partition the string into three parts using the given separator.\n",
            " |      \n",
            " |      This will search for the separator in the string.  If the separator is found,\n",
            " |      returns a 3-tuple containing the part before the separator, the separator\n",
            " |      itself, and the part after it.\n",
            " |      \n",
            " |      If the separator is not found, returns a 3-tuple containing the original string\n",
            " |      and two empty strings.\n",
            " |  \n",
            " |  replace(self, old, new, count=-1, /)\n",
            " |      Return a copy with all occurrences of substring old replaced by new.\n",
            " |      \n",
            " |        count\n",
            " |          Maximum number of occurrences to replace.\n",
            " |          -1 (the default value) means replace all occurrences.\n",
            " |      \n",
            " |      If the optional argument count is given, only the first count occurrences are\n",
            " |      replaced.\n",
            " |  \n",
            " |  rfind(...)\n",
            " |      S.rfind(sub[, start[, end]]) -> int\n",
            " |      \n",
            " |      Return the highest index in S where substring sub is found,\n",
            " |      such that sub is contained within S[start:end].  Optional\n",
            " |      arguments start and end are interpreted as in slice notation.\n",
            " |      \n",
            " |      Return -1 on failure.\n",
            " |  \n",
            " |  rindex(...)\n",
            " |      S.rindex(sub[, start[, end]]) -> int\n",
            " |      \n",
            " |      Return the highest index in S where substring sub is found,\n",
            " |      such that sub is contained within S[start:end].  Optional\n",
            " |      arguments start and end are interpreted as in slice notation.\n",
            " |      \n",
            " |      Raises ValueError when the substring is not found.\n",
            " |  \n",
            " |  rjust(self, width, fillchar=' ', /)\n",
            " |      Return a right-justified string of length width.\n",
            " |      \n",
            " |      Padding is done using the specified fill character (default is a space).\n",
            " |  \n",
            " |  rpartition(self, sep, /)\n",
            " |      Partition the string into three parts using the given separator.\n",
            " |      \n",
            " |      This will search for the separator in the string, starting at the end. If\n",
            " |      the separator is found, returns a 3-tuple containing the part before the\n",
            " |      separator, the separator itself, and the part after it.\n",
            " |      \n",
            " |      If the separator is not found, returns a 3-tuple containing two empty strings\n",
            " |      and the original string.\n",
            " |  \n",
            " |  rsplit(self, /, sep=None, maxsplit=-1)\n",
            " |      Return a list of the words in the string, using sep as the delimiter string.\n",
            " |      \n",
            " |        sep\n",
            " |          The delimiter according which to split the string.\n",
            " |          None (the default value) means split according to any whitespace,\n",
            " |          and discard empty strings from the result.\n",
            " |        maxsplit\n",
            " |          Maximum number of splits to do.\n",
            " |          -1 (the default value) means no limit.\n",
            " |      \n",
            " |      Splits are done starting at the end of the string and working to the front.\n",
            " |  \n",
            " |  rstrip(self, chars=None, /)\n",
            " |      Return a copy of the string with trailing whitespace removed.\n",
            " |      \n",
            " |      If chars is given and not None, remove characters in chars instead.\n",
            " |  \n",
            " |  split(self, /, sep=None, maxsplit=-1)\n",
            " |      Return a list of the words in the string, using sep as the delimiter string.\n",
            " |      \n",
            " |      sep\n",
            " |        The delimiter according which to split the string.\n",
            " |        None (the default value) means split according to any whitespace,\n",
            " |        and discard empty strings from the result.\n",
            " |      maxsplit\n",
            " |        Maximum number of splits to do.\n",
            " |        -1 (the default value) means no limit.\n",
            " |  \n",
            " |  splitlines(self, /, keepends=False)\n",
            " |      Return a list of the lines in the string, breaking at line boundaries.\n",
            " |      \n",
            " |      Line breaks are not included in the resulting list unless keepends is given and\n",
            " |      true.\n",
            " |  \n",
            " |  startswith(...)\n",
            " |      S.startswith(prefix[, start[, end]]) -> bool\n",
            " |      \n",
            " |      Return True if S starts with the specified prefix, False otherwise.\n",
            " |      With optional start, test S beginning at that position.\n",
            " |      With optional end, stop comparing S at that position.\n",
            " |      prefix can also be a tuple of strings to try.\n",
            " |  \n",
            " |  strip(self, chars=None, /)\n",
            " |      Return a copy of the string with leading and trailing whitespace removed.\n",
            " |      \n",
            " |      If chars is given and not None, remove characters in chars instead.\n",
            " |  \n",
            " |  swapcase(self, /)\n",
            " |      Convert uppercase characters to lowercase and lowercase characters to uppercase.\n",
            " |  \n",
            " |  title(self, /)\n",
            " |      Return a version of the string where each word is titlecased.\n",
            " |      \n",
            " |      More specifically, words start with uppercased characters and all remaining\n",
            " |      cased characters have lower case.\n",
            " |  \n",
            " |  translate(self, table, /)\n",
            " |      Replace each character in the string using the given translation table.\n",
            " |      \n",
            " |        table\n",
            " |          Translation table, which must be a mapping of Unicode ordinals to\n",
            " |          Unicode ordinals, strings, or None.\n",
            " |      \n",
            " |      The table must implement lookup/indexing via __getitem__, for instance a\n",
            " |      dictionary or list.  If this operation raises LookupError, the character is\n",
            " |      left untouched.  Characters mapped to None are deleted.\n",
            " |  \n",
            " |  upper(self, /)\n",
            " |      Return a copy of the string converted to uppercase.\n",
            " |  \n",
            " |  zfill(self, width, /)\n",
            " |      Pad a numeric string with zeros on the left, to fill a field of the given width.\n",
            " |      \n",
            " |      The string is never truncated.\n",
            " |  \n",
            " |  ----------------------------------------------------------------------\n",
            " |  Static methods defined here:\n",
            " |  \n",
            " |  __new__(*args, **kwargs) from builtins.type\n",
            " |      Create and return a new object.  See help(type) for accurate signature.\n",
            " |  \n",
            " |  maketrans(x, y=None, z=None, /)\n",
            " |      Return a translation table usable for str.translate().\n",
            " |      \n",
            " |      If there is only one argument, it must be a dictionary mapping Unicode\n",
            " |      ordinals (integers) or characters to Unicode ordinals, strings or None.\n",
            " |      Character keys will be then converted to ordinals.\n",
            " |      If there are two arguments, they must be strings of equal length, and\n",
            " |      in the resulting dictionary, each character in x will be mapped to the\n",
            " |      character at the same position in y. If there is a third argument, it\n",
            " |      must be a string, whose characters will be mapped to None in the result.\n",
            "\n",
            " LIMON, FR3S4 , M4NZ4N4  , 4GU4C4T3  \n",
            " LIMON, FR3S4 , M4NZ4N4  , 4GU4C4T3  \n"
          ]
        }
      ]
    },
    {
      "cell_type": "code",
      "metadata": {
        "colab": {
          "base_uri": "https://localhost:8080/"
        },
        "id": "zEpFy2as5qGo",
        "outputId": "6f7ecb7e-a26e-44c4-9f57-9878e73a502e"
      },
      "source": [
        "frutas = \" limon, fresa , manzana  , aguacate  \"\n",
        "print(frutas.strip())#quita la basura que lleva enfrente \"espacios\"\n",
        "print(frutas.split())#separa los elementos por cada palabra, separada por un espacio\n",
        "print(frutas.index('n'))\n",
        "print(frutas.find('n'))"
      ],
      "execution_count": null,
      "outputs": [
        {
          "output_type": "stream",
          "name": "stdout",
          "text": [
            "limon, fresa , manzana  , aguacate\n",
            "['limon,', 'fresa', ',', 'manzana', ',', 'aguacate']\n",
            "5\n",
            "5\n"
          ]
        }
      ]
    },
    {
      "cell_type": "markdown",
      "metadata": {
        "id": "tUHYcBjs8bCX"
      },
      "source": [
        "#String y caracteres de escape\n",
        "\n",
        "\"Jose\"\n",
        "- \\\\\" -->\"\n",
        "- \\\\'-->'\n",
        "- \\n -->Salto de linea (tecla enter)\n",
        "- \\t --> Tabulador espacio ala izquierda\n",
        "- \\uxxxx --> Caracter unicode 16 bits ( 2 bytes)\n",
        "- \\Uxxxxxxxx ---> unicode extendido 4 bytes\n",
        "- \\\\\\\\ --> \\\\ \\"
      ]
    },
    {
      "cell_type": "markdown",
      "metadata": {
        "id": "TZTz_KX8BBcE"
      },
      "source": [
        "# Fecha: 21/10/21"
      ]
    },
    {
      "cell_type": "code",
      "metadata": {
        "colab": {
          "base_uri": "https://localhost:8080/"
        },
        "id": "lDM9IGvx80XZ",
        "outputId": "42b8af68-5d82-4a6c-ad52-43c6785765d1"
      },
      "source": [
        "print(\" \\\"jose\\\"  \") #para interpretar las \"\" sin que sea parte del codigo\n",
        "nombre= \" \\\"jose\\\"  \"\n",
        "print(nombre)\n",
        "carrera = \" Ingenieía \\nen \\nComputación\"\n",
        "print(carrera)\n",
        "\n",
        "print(\"\\u0065\") # la u son caracteres unicode de 16 bits o 2 bytes\n",
        "print(\"\\u0444\")\n",
        "print(\"\\u0620\")\n",
        "print(\"\\U00010057\")\n",
        "print(\"\\U00010057\")\n",
        "print(\"\\U0001F47E\")\n",
        "print(\"\\U0001F602\")\n",
        "print(\"\\U0000262D\")"
      ],
      "execution_count": null,
      "outputs": [
        {
          "output_type": "stream",
          "name": "stdout",
          "text": [
            " \"jose\"  \n",
            " \"jose\"  \n",
            " Ingenieía \n",
            "en \n",
            "Computación\n",
            "e\n",
            "ф\n",
            "ؠ\n",
            "𐁗\n",
            "𐁗\n",
            "👾\n",
            "😂\n",
            "☭\n"
          ]
        }
      ]
    },
    {
      "cell_type": "markdown",
      "metadata": {
        "id": "sD_cc4JztKii"
      },
      "source": [
        "# Codigo ascii \n",
        "https://unicode-table.com/es/blocks/"
      ]
    },
    {
      "cell_type": "markdown",
      "metadata": {
        "id": "wRsS1y0oyOh5"
      },
      "source": [
        "# Función print \n",
        "\n",
        "### Se emplea para desplegar información en la salidaestandar.\n",
        "### Normalmente un monitor\n",
        "- Formas de usar print\n",
        "- El argumento por defecto de print(end)\n",
        "- format()\n",
        "- operador f**"
      ]
    },
    {
      "cell_type": "code",
      "metadata": {
        "colab": {
          "base_uri": "https://localhost:8080/"
        },
        "id": "hqdoKJ0oy95I",
        "outputId": "be963d99-abc9-4b7a-ab4f-6027a9da7000"
      },
      "source": [
        "nombre= \"jose\"\n",
        "edad=18\n",
        "casado= False \n",
        "estatura = 1.67\n",
        "# 1.- Con comas oncatena haciendo un casting(conversion a string automatico)\n",
        "#agrega un espacio\n",
        "print( nombre , edad , casado , estatura)\n",
        "print(\"Nombre: \" + nombre + \"\\n\\tEdad \" + str(edad)+\"\\n\\tEsta casado:\"+str(casado) + \"\\n\\tEstatura en metros\" + str(estatura))\n",
        "\n",
        "#2.- con el simbolo \"+\"\n",
        "#concatenación en crudo\n",
        "print( nombre+ \" \" +str(edad)+\" \"+str(casado)+\" \"+str(estatura))\n",
        "\n",
        "\n",
        "#3.-  dando formato a la salida con fomrat\n",
        "print(\"\\nCon la función format()\")\n",
        "print(\"Nombre: {}\\n\\tEdad: {}\\n\\tEsta casado: {}\\n\\tEstatura en metros:{}\".format(nombre,edad,casado,estatura))\n",
        "\n",
        "#4.- con el operador f\"\"\n",
        "print(\"con el operadorf\\\" \\\"\" )\n",
        "print(f\"Nombre: {nombre}\\n\\tEdad: {edad}\\n\\tEsta casado: {casado}\\n\\tEstatura en metros:{estatura}\")\n"
      ],
      "execution_count": null,
      "outputs": [
        {
          "output_type": "stream",
          "name": "stdout",
          "text": [
            "jose 18 False 1.67\n",
            "Nombre: jose\n",
            "\tEdad 18\n",
            "\tEsta casado:False\n",
            "\tEstatura en metros1.67\n",
            "jose 18 False 1.67\n",
            "\n",
            "Con la función format()\n",
            "Nombre: jose\n",
            "\tEdad: 18\n",
            "\tEsta casado: False\n",
            "\tEstatura en metros:1.67\n",
            "con el operadorf\" \"\n",
            "Nombre: jose\n",
            "\tEdad: 18\n",
            "\tEsta casado: False\n",
            "\tEstatura en metros:1.67\n"
          ]
        }
      ]
    },
    {
      "cell_type": "markdown",
      "metadata": {
        "id": "luOkGHHh3Ikv"
      },
      "source": [
        "# Format\n",
        "- La funcion format acomoda en orden de  - mis variables \n",
        "- en los {} le puedo dar orden con el - - numero de las variables \n",
        "- al detectar una f en un string puedes - usar la variable completa\n"
      ]
    },
    {
      "cell_type": "code",
      "metadata": {
        "colab": {
          "base_uri": "https://localhost:8080/"
        },
        "id": "2H9qFWWK49xr",
        "outputId": "fc0b1754-54c6-4f7c-936e-a76f4018b110"
      },
      "source": [
        "# como manejar el argumento \n",
        "print(\"\\n Como usar el argumento end\")\n",
        "print(f\"Hola {nombre}\" , end=\" \") #al no poner nada manda un espcaio \n",
        "print(\", como estas?\", end=\"\\n\") # de manera implicia manda salto de linea"
      ],
      "execution_count": null,
      "outputs": [
        {
          "output_type": "stream",
          "name": "stdout",
          "text": [
            "Hola jose, como estas?\n"
          ]
        }
      ]
    },
    {
      "cell_type": "markdown",
      "metadata": {
        "id": "9cEiUwgwZGZn"
      },
      "source": [
        "# TAREA 4 21/10/21"
      ]
    },
    {
      "cell_type": "markdown",
      "metadata": {
        "id": "OdFFnFOy68c8"
      },
      "source": [
        "# Con una sola función print, escribir su primer nombre (nombre de pila) de la siguiente forma\n",
        "\n",
        "j j j j j j j      A              A            S S S\n",
        "      j           A A            A A          S     \n",
        "      j          A   A          A   A          S S S\n",
        "      j         A A A A        A A A A             S\n",
        "j    j         A       A      A       A           S\n",
        " j j          A         A    A         A \n",
        "\n"
      ]
    },
    {
      "cell_type": "code",
      "metadata": {
        "colab": {
          "base_uri": "https://localhost:8080/"
        },
        "id": "fYXnKKq_7xT3",
        "outputId": "0412818a-7228-4df1-c6d4-c18199b05f20"
      },
      "source": [
        "print(\"\"\" \n",
        " J J J J J   A           A         S S S S    III  E E E E E  L L\n",
        "     J      A A         A A       S           III  E          L L\n",
        "     J     A   A       A   A       S S S S         E E E E    L L\n",
        "     J    A A A A     A A A A             S   III  E          L L\n",
        "J    J   A       A   A       A            S   III  E          L L \n",
        " J J    A         A A         A    S S S S    III  E E E E E  L L L L L \"\"\")"
      ],
      "execution_count": null,
      "outputs": [
        {
          "output_type": "stream",
          "name": "stdout",
          "text": [
            " \n",
            " J J J J J   A           A         S S S S    III  E E E E E  L L\n",
            "     J      A A         A A       S           III  E          L L\n",
            "     J     A   A       A   A       S S S S         E E E E    L L\n",
            "     J    A A A A     A A A A             S   III  E          L L\n",
            "J    J   A       A   A       A            S   III  E          L L \n",
            " J J    A         A A         A    S S S S    III  E E E E E  L L L L L \n"
          ]
        }
      ]
    }
  ]
}
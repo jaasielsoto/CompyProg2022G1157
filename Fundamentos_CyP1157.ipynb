{
  "nbformat": 4,
  "nbformat_minor": 0,
  "metadata": {
    "colab": {
      "name": "Fundamentos CyP1157",
      "provenance": [],
      "authorship_tag": "ABX9TyNmNEnHZQA1WzZgVfRV19xP",
      "include_colab_link": true
    },
    "kernelspec": {
      "name": "python3",
      "display_name": "Python 3"
    },
    "language_info": {
      "name": "python"
    }
  },
  "cells": [
    {
      "cell_type": "markdown",
      "metadata": {
        "id": "view-in-github",
        "colab_type": "text"
      },
      "source": [
        "<a href=\"https://colab.research.google.com/github/jaasielsoto/CompyProg2022G1157/blob/main/Fundamentos_CyP1157.ipynb\" target=\"_parent\"><img src=\"https://colab.research.google.com/assets/colab-badge.svg\" alt=\"Open In Colab\"/></a>"
      ]
    },
    {
      "cell_type": "markdown",
      "metadata": {
        "id": "f2HquxtB0Rn3"
      },
      "source": [
        "Fecha : 12/10/21 "
      ]
    },
    {
      "cell_type": "code",
      "metadata": {
        "id": "MXexFx5PVsJ2"
      },
      "source": [
        "nombre = 'jose' #Tipo de dato String (cadena de caracteres)\n",
        "  print(nombre) "
      ],
      "execution_count": null,
      "outputs": []
    },
    {
      "cell_type": "markdown",
      "metadata": {
        "id": "gFDeNzjLXM2A"
      },
      "source": [
        "# Tipos de datos en Python\n",
        "\n",
        "## Tipos simples \n",
        "\n",
        "- str --> String cadena de caractéres.\n",
        "- int --> Numeros enteros.\n",
        "- float -->Numeros con notación de punto flotante.\n",
        "- complex --> Numeros complejos raices negativas.\n",
        "- bool --> Boleano (True o Fals)\n",
        "- byte --> 8 bits\n",
        "\n",
        "## Tipos de datos estructurados (compuestos)\n",
        "\n",
        "- list --> Listas (Arreglos en otros lenguajes) mutables y duplas no mutables \n",
        "- tuple --> listas no mutables \n",
        "- dict --> diccionarios \n",
        "-  set y frozenset --> conjuntos \n",
        "\n",
        "\n"
      ]
    },
    {
      "cell_type": "code",
      "metadata": {
        "colab": {
          "base_uri": "https://localhost:8080/"
        },
        "id": "_w4LY99WaSIr",
        "outputId": "e1a4b8f0-73c9-4313-ae0e-1fe3765ec09f"
      },
      "source": [
        "import sys\n",
        "edad = 19 \n",
        "print(\"tu edad es:\",edad) #al final de una linea de codigo\n",
        "#este es un comentario de linea simple \n",
        "\"\"\"\n",
        "comentario de multiple linea \n",
        "en lenguje C, c++ y java el comentario multiple linea es con\n",
        "/*.....*/\n",
        "\n",
        "En lenguaje c.c++ y java el comentario de una linea es:\n",
        "//\n",
        "aqui puedes explicar en prosa el segmento de un codigo para futura revisión \n",
        "\"\"\"\n"
      ],
      "execution_count": null,
      "outputs": [
        {
          "output_type": "stream",
          "name": "stdout",
          "text": [
            "tu edad es: 19\n"
          ]
        }
      ]
    },
    {
      "cell_type": "markdown",
      "metadata": {
        "id": "o5QVjY2Banu1"
      },
      "source": [
        "- Las comillas las ponemos para hacer un comentario que son parte de nuestro programa para poder completarlo.\n",
        "\n",
        "- \"\"despues de la primer \" comilla el programa ignora lo que este dentro de las comillas y no afecta al programa.\n",
        "\n",
        "-La posibilidad de ponerle texto al programa es para ayuda del programador.\n",
        "el # lo usamos en Python "
      ]
    },
    {
      "cell_type": "code",
      "metadata": {
        "colab": {
          "base_uri": "https://localhost:8080/"
        },
        "id": "onYswTMUcT49",
        "outputId": "0662913c-4173-4d68-aeaf-c13917a3f7d8"
      },
      "source": [
        "import sys\n",
        "#Tipos de datos numericos  int y float \n",
        "edad = 19 \n",
        "print(\"tu edad es:\",edad)\n",
        "print (sys.getsizeof(edad)) #edad es una variable \n",
        "#el tipo de dato INT utiliza diferente cantdad de bits segun el \n",
        "#lenguaje de programación por ejemplo en C utiliza 16 bits\n",
        "edad = edad + 1\n",
        "print(edad)\n"
      ],
      "execution_count": null,
      "outputs": [
        {
          "output_type": "stream",
          "name": "stdout",
          "text": [
            "tu edad es: 19\n",
            "28\n",
            "20\n"
          ]
        }
      ]
    },
    {
      "cell_type": "markdown",
      "metadata": {
        "id": "m5qa2rM0c4VC"
      },
      "source": [
        "# la biblioteca sys \n",
        "- representa al sistema en python averiguar cuanto esta ocupando la variable en el sistema \n",
        "- representa a la computadora actual \n",
        "\n",
        "# getsizeof\n",
        "- muestra lo que representa en bits en nuestro programa usamos 28 bits\n",
        "- los datos e"
      ]
    },
    {
      "cell_type": "code",
      "metadata": {
        "colab": {
          "base_uri": "https://localhost:8080/"
        },
        "id": "wCUf6mO9ekAj",
        "outputId": "e99e206f-a9e7-4dad-aa82-3c65e59f7945"
      },
      "source": [
        "import sys\n",
        "estatura = 1.56 #declaro variable \n",
        "print( estatura) #imprimo el valor del variable \n",
        "print( sys.getsizeof(estatura))\n",
        "estatura = estatura + 0.1\n",
        "print( round(estatura,2)) \n",
        "#round hace que redonde y el 2 es hasta que digito tomara en este redondeara \n",
        "#a 2 decimales \n"
      ],
      "execution_count": null,
      "outputs": [
        {
          "output_type": "stream",
          "name": "stdout",
          "text": [
            "1.56\n",
            "24\n",
            "1.66\n"
          ]
        }
      ]
    },
    {
      "cell_type": "markdown",
      "metadata": {
        "id": "d1B7KN9_fFzw"
      },
      "source": [
        "# Valores flotantes\n",
        "- es importante hacer la limitacion de la presición de la limitacion de los valores \n",
        "-  se debe limitar en binario (acotarlo a ciertos decimales)\n",
        "- o redondear round hace que redonde y el 2 es hasta que digito tomara en este redondeara a 2 decimales \n",
        "- en c un flotante usa 4 bits y usa 32 bits  "
      ]
    },
    {
      "cell_type": "code",
      "metadata": {
        "colab": {
          "base_uri": "https://localhost:8080/"
        },
        "id": "dIPnyw7QgPLP",
        "outputId": "3a7be138-85c5-437a-ba9c-d8fa05f19d0c"
      },
      "source": [
        "edad=21\n",
        "#Suma\n",
        "edad +=1  #edad = edad + 1\n",
        "print(\"tu edad es \", edad)\n",
        "\n",
        "#Resta\n",
        "edad -=1   #edad = edad - 1\n",
        "print(\"tu edad es\", edad)\n",
        "\n",
        "\n",
        "#División \n",
        "edad /=2 \n",
        "print(\"tu edad es\", edad)\n",
        "\n",
        "edad = 21\n",
        "# volver a calcular la mitad de la edad pero solo dejar\n",
        "#la parte entera \n",
        "edad = edad // 2  #la diagonal diagonal obliga a dar numeros enteros\n",
        "print(\"la mitad de tu edad es\", edad)\n",
        "\n",
        "# en la mayoria de los leng no permite operaciones entre \n",
        "#diferentes tipos de datos, en Python\n",
        "numero= edad / 2.0\n",
        "print(numero)\n",
        "\n",
        "#multiplicación \n",
        "numero *=3       #numero *3 simplifica la expresión \n",
        "print(numero)\n",
        "\n",
        "\n",
        "# Potecias \n",
        "numero= 5.0\n",
        "numero **= 2 #numero ** 2 no tiene una simplificación  en otros lenguajes pero python si\n",
        "print(numero)\n",
        "\n",
        "\n",
        "\n",
        "#Operador modulo\n",
        "\n",
        "numero=21\n",
        "print( numero /2)\n",
        "print( numero //2)\n",
        "\n",
        "# el operador módulo da como resultado el residuo de una división entera\n",
        "\n",
        "print( numero % 2) #la mayoria de lenguajes el módulo se simboliza con el %\n",
        "\n",
        "numero = 24\n",
        "print(\"Residuo de 24/5:\", numero % 5)\n",
        "print( numero % 2 ==0)\n",
        " #es importante para calculos \n",
        " #saber si un numero es multiplo de otro\n",
        "\n",
        "\n"
      ],
      "execution_count": null,
      "outputs": [
        {
          "output_type": "stream",
          "name": "stdout",
          "text": [
            "tu edad es  22\n",
            "tu edad es 21\n",
            "tu edad es 10.5\n",
            "la mitad de tu edad es 10\n",
            "5.0\n",
            "15.0\n",
            "25.0\n",
            "10.5\n",
            "10\n",
            "1\n",
            "Residuo de 24/5: 4\n",
            "True\n"
          ]
        }
      ]
    },
    {
      "cell_type": "markdown",
      "metadata": {
        "id": "notKLkW4gc2e"
      },
      "source": [
        "+= es lo mismo que ahumentarle a edad 1\n",
        "- en python la división siempre te dara punto decimal \n",
        "\n",
        "- en el caso de Python deja hacer operaciones entre diferentes variables \n"
      ]
    },
    {
      "cell_type": "markdown",
      "metadata": {
        "id": "G1rDM65QnOmL"
      },
      "source": [
        "#Operadores Relacionales \n",
        "- cada lenguaje implementa distintas cosas o puede ser igual\n",
        "\n",
        "- = igual que  \n",
        "- <> Diferente\n",
        "- < Menor que\n",
        "- > Mayor que\n",
        "- <= Menor o igual\n",
        "- >= Mayor o igual que \n",
        "\n"
      ]
    },
    {
      "cell_type": "code",
      "metadata": {
        "colab": {
          "base_uri": "https://localhost:8080/"
        },
        "id": "ooOkBNC0nNtt",
        "outputId": "9000c4d6-ba0f-44d5-c251-51456668f5dc"
      },
      "source": [
        "#Operadores Relacionales (logicos)\n",
        "#igual\n",
        "numero = 24\n",
        "print(\"24 es par?:\", numero % 5)\n",
        "print( numero % 2 ==0)\n",
        "\n",
        "#diferencia\n",
        "print(\"247 es diferete de 23:\", numero != 23)\n",
        "print(\"24 es mayor que 23:\", numero > 23)\n",
        "print(\"24 es menor que 23:\", numero < 23)\n",
        "\n",
        "print(\"24 es mayor o igual que 24:\", numero >= 24)\n",
        "print(\"24 es menor o igual que 24:\", numero <= 23)\n",
        "\n",
        "print(\"El tipo de dato de la variable numero es:\" , type (numero))\n",
        "print(\"El tipo de dato de la variable entre 2 es:\" , type (numero / 2))\n",
        " #es importante para calculos \n",
        " #saber si un numero es multiplo de otro"
      ],
      "execution_count": null,
      "outputs": [
        {
          "output_type": "stream",
          "name": "stdout",
          "text": [
            "24 es par?: 4\n",
            "True\n",
            "247 es diferete de 23: True\n",
            "24 es mayor que 23: True\n",
            "24 es menor que 23: False\n",
            "24 es mayor o igual que 24: True\n",
            "24 es menor o igual que 24: False\n",
            "El tipo de dato de la variable numero es: <class 'int'>\n",
            "El tipo de dato de la variable entre 2 es: <class 'float'>\n"
          ]
        }
      ]
    },
    {
      "cell_type": "markdown",
      "metadata": {
        "id": "AL6Cdw7spii0"
      },
      "source": [
        "# Tipo de dato String (str) en Python \n",
        "\n",
        "- Se maneja como un arreglo (tipo de dato compuesto)\n",
        "- Sepuede acceder a los elementos de el string por medio del índice del caracter.\n",
        "- Mutable\n",
        "-  Tiene métodos útiles (Potentes)\n",
        "- slicing\n",
        "\n",
        "- hay cuatro formas de usar un str\n",
        "\n",
        "-si es solo de una linea es con '' comillas simples\n",
        "\n",
        "-si son mas de una utilizar las triples comillas \"\"\"\n",
        "\n",
        "- o usar str( \"Perez\" )\n"
      ]
    },
    {
      "cell_type": "code",
      "metadata": {
        "colab": {
          "base_uri": "https://localhost:8080/"
        },
        "id": "fcCvvMWvqE9b",
        "outputId": "1a3b9d91-589c-46e3-8679-a7470b08f386"
      },
      "source": [
        "#primero hay que ver como se define una variable str\n",
        "\n",
        "nombre = 'jose'\n",
        "carrera = \"Ingeniería en computación\"\n",
        "frase = \"\"\"El conocimiento\n",
        "me persigue,....\n",
        "pero\n",
        "yo soy mas rápido\"\"\" \n",
        "\n",
        "print( nombre )\n",
        "print( carrera ) \n",
        "print( frase )\n",
        "\n",
        "# La funcion type de pyton te devuekve el tipo de dato de una variable (o expresión)\n",
        "print(type (nombre))\n",
        "\n",
        "paterno = str( \"Perez\")\n",
        "print( paterno)\n"
      ],
      "execution_count": null,
      "outputs": [
        {
          "output_type": "stream",
          "name": "stdout",
          "text": [
            "jose\n",
            "Ingeniería en computación\n",
            "El conocimiento\n",
            "me persigue,....\n",
            "pero\n",
            "yo soy mas rápido\n",
            "<class 'str'>\n"
          ]
        }
      ]
    },
    {
      "cell_type": "markdown",
      "metadata": {
        "id": "gztO6rIYsPvP"
      },
      "source": [
        "#Type \n",
        "nos da que tipo de valor es "
      ]
    }
  ]
}
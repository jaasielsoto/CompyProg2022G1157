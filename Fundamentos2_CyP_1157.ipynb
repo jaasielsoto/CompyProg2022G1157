{
  "nbformat": 4,
  "nbformat_minor": 0,
  "metadata": {
    "colab": {
      "name": "Fundamentos2_CyP_1157.ipynb",
      "provenance": [],
      "authorship_tag": "ABX9TyPgUAy+GQ5AJAsD2ZlAEOld",
      "include_colab_link": true
    },
    "kernelspec": {
      "name": "python3",
      "display_name": "Python 3"
    },
    "language_info": {
      "name": "python"
    }
  },
  "cells": [
    {
      "cell_type": "markdown",
      "metadata": {
        "id": "view-in-github",
        "colab_type": "text"
      },
      "source": [
        "<a href=\"https://colab.research.google.com/github/jaasielsoto/CompyProg2022G1157/blob/main/Fundamentos2_CyP_1157.ipynb\" target=\"_parent\"><img src=\"https://colab.research.google.com/assets/colab-badge.svg\" alt=\"Open In Colab\"/></a>"
      ]
    },
    {
      "cell_type": "markdown",
      "metadata": {
        "id": "TzrfjaJnFkpa"
      },
      "source": [
        "# Fecha 04/11/2021"
      ]
    },
    {
      "cell_type": "markdown",
      "metadata": {
        "id": "-DKUn3r8FrWc"
      },
      "source": [
        "# Tipos de datos etructurados de python \n",
        "1. Listas\n",
        "2. Tuplas\n",
        "3. Diccionarios\n",
        "4. Coonjuntos (opcional)\n"
      ]
    },
    {
      "cell_type": "markdown",
      "metadata": {
        "id": "nvZfZxziF5di"
      },
      "source": [
        "#Listas\n",
        "- Tipo de datos que agrupa variables o valores.\n",
        "- Estructura secuencial (indexados empezando por 0)\n",
        "- Se declara de dos formas#\n",
        "    - usando []\n",
        "    - usando list()\n",
        "- Puede contener tipos de datos diversos (En otros lenguajes de programación eso no es posible de forma directa)\n",
        "- Los elementos internos se seleccionan con []\n",
        "- Soporta slicing\n",
        "- SON MUTABLES \n",
        "- GENERADORES [var for x in range(10)]\n",
        "- al ser una clase contiene muchos metodos utiles  "
      ]
    },
    {
      "cell_type": "code",
      "metadata": {
        "colab": {
          "base_uri": "https://localhost:8080/"
        },
        "id": "DYN1EkEqFd8T",
        "outputId": "98ca7223-b7a6-4a58-b48a-fab04a5af6a1"
      },
      "source": [
        "# .append() agerga a una lista vacia lo que ponga en los parentesis\n",
        "numeros = [10, 5, 2, 3, 1]\n",
        "print(numeros)\n",
        "\n",
        "numeros2 = list()\n",
        "numeros2.append(10)\n",
        "numeros2.append(5)\n",
        "numeros2.append(2)\n",
        "numeros2.append(3)\n",
        "numeros2.append(1)\n",
        "print(numeros2)\n",
        "\n",
        "# mutabilidad  se puede cambiar datos \n",
        "numeros [2]= 20\n",
        "print(numeros) \n",
        "\n",
        "numeros [-1]= 33 # funciona con indexado negativo -1 o 4\n",
        "print(numeros) \n",
        "numeros.append(88)"
      ],
      "execution_count": null,
      "outputs": [
        {
          "output_type": "stream",
          "name": "stdout",
          "text": [
            "[10, 5, 2, 3, 1]\n",
            "[10, 5, 2, 3, 1]\n",
            "[10, 5, 20, 3, 1]\n",
            "[10, 5, 20, 3, 33]\n"
          ]
        }
      ]
    },
    {
      "cell_type": "code",
      "metadata": {
        "colab": {
          "base_uri": "https://localhost:8080/"
        },
        "id": "heIAHpbGIe5D",
        "outputId": "9eb16083-ed69-4c4c-8312-00eeacf7c836"
      },
      "source": [
        "# tipos diversos\n",
        "\n",
        "cosas = [12, 2 ,True, \"Jose\", 1.57, [\"pera\", \"kiwi\",\"uva\"]]\n",
        "print(cosas)\n",
        "print(cosas [1])\n",
        "print(cosas[4])\n",
        "print(cosas[5])\n",
        "print(cosas[5][1]) # el primer [] muestra el valor de la lista y el segundo tambien muetra el valor dentro de la otra lista \n",
        "print(cosas[3][1:3:]) #slicing con el []\n",
        "cosas[3] = cosas[3].upper() # mayusculas es caracteristica de la clase string\n",
        "print(cosas)\n"
      ],
      "execution_count": null,
      "outputs": [
        {
          "output_type": "stream",
          "name": "stdout",
          "text": [
            "[12, 2, True, 'Jose', 1.57, ['pera', 'kiwi', 'uva']]\n",
            "2\n",
            "1.57\n",
            "['pera', 'kiwi', 'uva']\n",
            "kiwi\n",
            "os\n",
            "[12, 2, True, 'JOSE', 1.57, ['pera', 'kiwi', 'uva']]\n"
          ]
        }
      ]
    },
    {
      "cell_type": "code",
      "metadata": {
        "colab": {
          "base_uri": "https://localhost:8080/"
        },
        "id": "DV2uGXhNL2E0",
        "outputId": "3e0a173b-14e8-492c-c0de-6bf04b3055d9"
      },
      "source": [
        "numeros = [1,2,3,4,5,6,7,8,9,10,11]\n",
        "print(numeros)\n",
        "#slicing\n",
        "#1.- 4 al 8\n",
        "print(numeros[-8:-3:]) #slicing normal print(numeros[3:8:])\n",
        "print(numeros[3:8:])\n",
        "#2.- [9,10]\n",
        "print(numeros[8:10:])\n",
        "print(numeros[-3:-1:])\n",
        "\n",
        "#3.- imprimir la lista en orden inverso [11,10,9,etc,1]\n",
        "print(numeros[::-1]) # organiza los numeros comenzando por el primero de derecha a izquierda hasta el utlimo \n"
      ],
      "execution_count": null,
      "outputs": [
        {
          "output_type": "stream",
          "name": "stdout",
          "text": [
            "[1, 2, 3, 4, 5, 6, 7, 8, 9, 10, 11]\n",
            "[4, 5, 6, 7, 8]\n",
            "[4, 5, 6, 7, 8]\n",
            "[9, 10]\n",
            "[9, 10]\n",
            "[11, 10, 9, 8, 7, 6, 5, 4, 3, 2, 1]\n"
          ]
        }
      ]
    },
    {
      "cell_type": "code",
      "metadata": {
        "colab": {
          "base_uri": "https://localhost:8080/"
        },
        "id": "HEFVo408Ppt1",
        "outputId": "941c3228-28e5-436c-b3b6-8e73b382c5cd"
      },
      "source": [
        "# Crear una lista con un generador \n",
        "numeros = [x*3 for x in range(101)] # es hata el 101 por el tope \n",
        "print(numeros)\n",
        "# cualquier cambio que le hagamos a la primera x sumar restar o multiplicar solo es a esa"
      ],
      "execution_count": null,
      "outputs": [
        {
          "output_type": "stream",
          "name": "stdout",
          "text": [
            "[0, 3, 6, 9, 12, 15, 18, 21, 24, 27, 30, 33, 36, 39, 42, 45, 48, 51, 54, 57, 60, 63, 66, 69, 72, 75, 78, 81, 84, 87, 90, 93, 96, 99, 102, 105, 108, 111, 114, 117, 120, 123, 126, 129, 132, 135, 138, 141, 144, 147, 150, 153, 156, 159, 162, 165, 168, 171, 174, 177, 180, 183, 186, 189, 192, 195, 198, 201, 204, 207, 210, 213, 216, 219, 222, 225, 228, 231, 234, 237, 240, 243, 246, 249, 252, 255, 258, 261, 264, 267, 270, 273, 276, 279, 282, 285, 288, 291, 294, 297, 300]\n"
          ]
        }
      ]
    },
    {
      "cell_type": "markdown",
      "metadata": {
        "id": "oIZCusWOQVcb"
      },
      "source": [
        "# Funcion range()\n",
        "Tiene los mismos componentes que slicing \n",
        "ini, stop, incremento\n",
        "range(1,101) es lo mismo que el ejemplo \n",
        "range(50,101)"
      ]
    },
    {
      "cell_type": "code",
      "metadata": {
        "colab": {
          "base_uri": "https://localhost:8080/"
        },
        "id": "vadGg3DLQv9L",
        "outputId": "98e44681-1599-483a-afa7-24fc454b6250"
      },
      "source": [
        "numeros = [x for x in range(50,101,5)]# ese 1 es el incremento \n",
        "print(numeros)"
      ],
      "execution_count": null,
      "outputs": [
        {
          "output_type": "stream",
          "name": "stdout",
          "text": [
            "[50, 55, 60, 65, 70, 75, 80, 85, 90, 95, 100]\n"
          ]
        }
      ]
    },
    {
      "cell_type": "markdown",
      "metadata": {
        "id": "eGcZNBAMRImw"
      },
      "source": [
        "# metodos disponibles de las listas\n",
        "\n"
      ]
    },
    {
      "cell_type": "code",
      "metadata": {
        "colab": {
          "base_uri": "https://localhost:8080/"
        },
        "id": "Roy3mIbMRMcM",
        "outputId": "3bd51cd4-2ca9-45d9-9efe-dc7bd86891b6"
      },
      "source": [
        "dir(list) # solo usar los que no tienen _"
      ],
      "execution_count": null,
      "outputs": [
        {
          "output_type": "execute_result",
          "data": {
            "text/plain": [
              "['__add__',\n",
              " '__class__',\n",
              " '__contains__',\n",
              " '__delattr__',\n",
              " '__delitem__',\n",
              " '__dir__',\n",
              " '__doc__',\n",
              " '__eq__',\n",
              " '__format__',\n",
              " '__ge__',\n",
              " '__getattribute__',\n",
              " '__getitem__',\n",
              " '__gt__',\n",
              " '__hash__',\n",
              " '__iadd__',\n",
              " '__imul__',\n",
              " '__init__',\n",
              " '__init_subclass__',\n",
              " '__iter__',\n",
              " '__le__',\n",
              " '__len__',\n",
              " '__lt__',\n",
              " '__mul__',\n",
              " '__ne__',\n",
              " '__new__',\n",
              " '__reduce__',\n",
              " '__reduce_ex__',\n",
              " '__repr__',\n",
              " '__reversed__',\n",
              " '__rmul__',\n",
              " '__setattr__',\n",
              " '__setitem__',\n",
              " '__sizeof__',\n",
              " '__str__',\n",
              " '__subclasshook__',\n",
              " 'append',\n",
              " 'clear',\n",
              " 'copy',\n",
              " 'count',\n",
              " 'extend',\n",
              " 'index',\n",
              " 'insert',\n",
              " 'pop',\n",
              " 'remove',\n",
              " 'reverse',\n",
              " 'sort']"
            ]
          },
          "metadata": {},
          "execution_count": 47
        }
      ]
    },
    {
      "cell_type": "code",
      "metadata": {
        "colab": {
          "base_uri": "https://localhost:8080/"
        },
        "id": "vmeLElnOSstm",
        "outputId": "e5dd0024-989b-42b9-c213-942581774adc"
      },
      "source": [
        "numeros = [4,1,15,8,22,34,50]\n",
        "print(numeros)\n",
        "numeros.append(99)\n",
        "print(numeros)\n",
        "#numeros.clear() hacerlos con este metodo\n",
        "#numeros = []\n",
        "print(numeros)\n",
        "\n",
        "# solamente hace referencia a la lista pero sigue siendo afectada \n",
        "frutas = [\"uvas\",\"kiwi\",\"manzana\"]\n",
        "copia = frutas \n",
        "print(frutas)\n",
        "print(copia)\n",
        "frutas.append(\"naranja\")\n",
        "print(frutas)\n",
        "print(copia)\n",
        "\n",
        "# esta ya hace una copia independiente de la lista original esta ya no es afectada \n",
        "colores = [\"rojo\", \"azul\", \"blanco\"]\n",
        "copia2 = colores.copy()\n",
        "print(colores)\n",
        "print(copia2)\n",
        "colores.append(\"verde\")\n",
        "print(colores)\n",
        "print(copia2)\n",
        "\n",
        "\n",
        "print(\"Numero de veces que aparece el 15= \", numeros.count(15))\n",
        "\n",
        " "
      ],
      "execution_count": null,
      "outputs": [
        {
          "output_type": "stream",
          "name": "stdout",
          "text": [
            "[4, 1, 15, 8, 22, 34, 50]\n",
            "[4, 1, 15, 8, 22, 34, 50, 99]\n",
            "[4, 1, 15, 8, 22, 34, 50, 99]\n",
            "['uvas', 'kiwi', 'manzana']\n",
            "['uvas', 'kiwi', 'manzana']\n",
            "['uvas', 'kiwi', 'manzana', 'naranja']\n",
            "['uvas', 'kiwi', 'manzana', 'naranja']\n",
            "['rojo', 'azul', 'blanco']\n",
            "['rojo', 'azul', 'blanco']\n",
            "['rojo', 'azul', 'blanco', 'verde']\n",
            "['rojo', 'azul', 'blanco']\n",
            "Numero de veces que aparece el 15=  1\n"
          ]
        }
      ]
    },
    {
      "cell_type": "code",
      "metadata": {
        "colab": {
          "base_uri": "https://localhost:8080/"
        },
        "id": "mZKZQ3s9VC4n",
        "outputId": "fe7d849d-1011-49bf-efee-2fa48e496950"
      },
      "source": [
        "# extend\n",
        "\n",
        "nombres = [\"Jose\", \"Pedro\", \"Karina\"]\n",
        "otrosNombres = [\"Josue\", \"Diana\", \"Dalia\"]\n",
        "print(nombres)\n",
        "print(otrosNombres)\n",
        "\n",
        "nombres = nombres + otrosNombres\n",
        "print(nombres)\n",
        "print(otrosNombres)\n",
        "\n",
        "# lo mismo con el metodo extend\n",
        "\n",
        "otrosNombres.extend([\"Jesus\",\"Maria\",\"Jose\"])\n",
        "print(otrosNombres)\n",
        "print(\"jesus esta en la posición:\", otrosNombres.index(\"Jesus\"))\n",
        "otrosNombres.insert(4, \"Espiritu santo\")\n",
        "print(otrosNombres)\n",
        "\n",
        "#pop quita el ultimo valor y te lo da y lo registra en la otra variable \n",
        "\n",
        "resultado = otrosNombres.pop()\n",
        "print(otrosNombres)\n",
        "print(resultado)\n"
      ],
      "execution_count": null,
      "outputs": [
        {
          "output_type": "stream",
          "name": "stdout",
          "text": [
            "['Jose', 'Pedro', 'Karina']\n",
            "['Josue', 'Diana', 'Dalia']\n",
            "['Jose', 'Pedro', 'Karina', 'Josue', 'Diana', 'Dalia']\n",
            "['Josue', 'Diana', 'Dalia']\n",
            "['Josue', 'Diana', 'Dalia', 'Jesus', 'Maria', 'Jose']\n",
            "jesus esta en la posición: 3\n",
            "['Josue', 'Diana', 'Dalia', 'Jesus', 'Espiritu santo', 'Maria', 'Jose']\n",
            "['Josue', 'Diana', 'Dalia', 'Jesus', 'Espiritu santo', 'Maria']\n",
            "Jose\n"
          ]
        }
      ]
    },
    {
      "cell_type": "markdown",
      "metadata": {
        "id": "_NewzrvSpRUi"
      },
      "source": [
        "# Fecha 09/11/2021"
      ]
    },
    {
      "cell_type": "markdown",
      "metadata": {
        "id": "uWDfqhZtvB2k"
      },
      "source": [
        "# Tuplas\n",
        "\n",
        "### Caracteristicas de las tuplas\n",
        "\n",
        "- Datos agrupados\n",
        "- Se declara usando #\n",
        "    - ()\n",
        "    - tuple()\n",
        "- Estructura secuencial, indexada a partir de 0.\n",
        "- Pueden tener de 0 a n elementos. \n",
        "- No SON MUTABLES (No se puede: Eliminar y/o cambiar).\n",
        "- Son buenas para almacenar información de consulta.\n",
        "- Pueden almacenar informacion de diferentes tips de datos (igual que las listas solo que no se puede cambiar la información).\n",
        "- Pueden estar anidadas. \n",
        "- Tienen metodos útiles.\n",
        "- es similar a la lista solo que estas no se pueden editar"
      ]
    },
    {
      "cell_type": "code",
      "metadata": {
        "colab": {
          "base_uri": "https://localhost:8080/"
        },
        "id": "VQTxTn9yw5XT",
        "outputId": "b8388c94-c1d6-4753-f905-09ac6a0a3095"
      },
      "source": [
        "info = (\"juan23\", \"dios1234\", \"123.232.1.12\") \n",
        "print(info)\n",
        "print(info [1])\n",
        "#info[1] = \"patito\" no se puede editar o modificar \n",
        "# es similar a la lista solo que estas no se pueden editar\n",
        "\n",
        "numeros= (0,1,2,3,4,5,6,7,8,9,10,11,12,13,14,15)\n",
        "print(numeros)\n",
        "print(numeros[5:11:1]) #permite slicing \n",
        "\n",
        "cosas= (info , numeros)\n",
        "print(cosas)\n",
        "print(cosas[1][5:11:1]) #funciona igual que las listas con el slicing de dos listas\n",
        "print(cosas[0][2][4:7]) #el 0 es para la tupla 0, el 2 es el segundo elemento de la tupla contando desde 0  y el slicin manda el 232 con 4:7\n",
        "print(cosas[0][2][-8:-5])"
      ],
      "execution_count": null,
      "outputs": [
        {
          "output_type": "stream",
          "name": "stdout",
          "text": [
            "('juan23', 'dios1234', '123.232.1.12')\n",
            "dios1234\n",
            "(0, 1, 2, 3, 4, 5, 6, 7, 8, 9, 10, 11, 12, 13, 14, 15)\n",
            "(5, 6, 7, 8, 9, 10)\n",
            "(('juan23', 'dios1234', '123.232.1.12'), (0, 1, 2, 3, 4, 5, 6, 7, 8, 9, 10, 11, 12, 13, 14, 15))\n",
            "(5, 6, 7, 8, 9, 10)\n",
            "232\n",
            "232\n"
          ]
        }
      ]
    },
    {
      "cell_type": "markdown",
      "metadata": {
        "id": "uRKf7hQI0lTS"
      },
      "source": [
        "# Metodos de las tuplas \n",
        "Son los mismos de las listas pero los que no involucren mutabilidad\n",
        "ya que estas no se pueden modificar \n",
        "- 'count'\n",
        "- 'index'"
      ]
    },
    {
      "cell_type": "code",
      "metadata": {
        "colab": {
          "base_uri": "https://localhost:8080/"
        },
        "id": "5K_atEE80ku8",
        "outputId": "789e00bb-0731-4221-dfb1-03a227ff5c69"
      },
      "source": [
        "dir(tuple)"
      ],
      "execution_count": null,
      "outputs": [
        {
          "output_type": "execute_result",
          "data": {
            "text/plain": [
              "['__add__',\n",
              " '__class__',\n",
              " '__contains__',\n",
              " '__delattr__',\n",
              " '__dir__',\n",
              " '__doc__',\n",
              " '__eq__',\n",
              " '__format__',\n",
              " '__ge__',\n",
              " '__getattribute__',\n",
              " '__getitem__',\n",
              " '__getnewargs__',\n",
              " '__gt__',\n",
              " '__hash__',\n",
              " '__init__',\n",
              " '__init_subclass__',\n",
              " '__iter__',\n",
              " '__le__',\n",
              " '__len__',\n",
              " '__lt__',\n",
              " '__mul__',\n",
              " '__ne__',\n",
              " '__new__',\n",
              " '__reduce__',\n",
              " '__reduce_ex__',\n",
              " '__repr__',\n",
              " '__rmul__',\n",
              " '__setattr__',\n",
              " '__sizeof__',\n",
              " '__str__',\n",
              " '__subclasshook__',\n",
              " 'count',\n",
              " 'index']"
            ]
          },
          "metadata": {},
          "execution_count": 13
        }
      ]
    },
    {
      "cell_type": "code",
      "metadata": {
        "colab": {
          "base_uri": "https://localhost:8080/"
        },
        "id": "8KG-Hrl31QuG",
        "outputId": "36a38a05-61f3-4553-f2a9-01a5e77698f8"
      },
      "source": [
        "info = (\"juan23\", \"dios1234\", \"123.232.1.12\") \n",
        "print(info)\n",
        "print(\"Cuantas veces aparece juan23=\", info.count(\"juan23\"))\n",
        "info.index"
      ],
      "execution_count": null,
      "outputs": [
        {
          "output_type": "stream",
          "name": "stdout",
          "text": [
            "('juan23', 'dios1234', '123.232.1.12')\n",
            "Cuantas veces aparece juan23= 1\n"
          ]
        },
        {
          "output_type": "execute_result",
          "data": {
            "text/plain": [
              "<function tuple.index>"
            ]
          },
          "metadata": {},
          "execution_count": 25
        }
      ]
    },
    {
      "cell_type": "markdown",
      "metadata": {
        "id": "oM7bo_u_2twN"
      },
      "source": [
        "# Diccionarios\n",
        "### Características de los diccionarios\n",
        "\n",
        "- Agrupan datos pero de forma no lineal.\n",
        "- se declaran:\n",
        "  - {}\n",
        "  - dict()\n",
        "- Formado por pares del tipo llave:valor, donde: \n",
        "  - llave es de tipo string (siempre)\n",
        "  - valor pued ser de cualquier tipo de datos, incluyendo los diccionarios.\n",
        "\n",
        "- Se seleccionan con la llave de la forma:\n",
        "[\"id_llave\"]\n",
        "- Son mutables \n",
        "- Son anidables \n",
        "- Son equivalentes al tipo de dato JSON del lenguaje JavaScrip (JS)\n",
        "\n",
        "-  Solo los diccionarios permiten salto de linea"
      ]
    },
    {
      "cell_type": "code",
      "metadata": {
        "colab": {
          "base_uri": "https://localhost:8080/"
        },
        "id": "ka_4LyiT4whY",
        "outputId": "b9e8dff0-1145-4b65-869e-f4b4051a2430"
      },
      "source": [
        "alumno ={\"nombre\" : \"José\"}\n",
        "print(alumno)\n",
        "print(alumno[\"nombre\"])\n",
        "alumno= {\"nombre\": \"José\", \"nc\":\"2129229292\", \"edad\":18}\n",
        "print(\"Edad del alumno =\", alumno[\"edad\"])\n",
        "print(\"nombre del alumno =\", alumno[\"nombre\"].upper()) # le puedo mandar a pedir cualquier caracteristica de los string\n",
        "print(alumno)\n",
        "\n",
        "print(\"alumno2:\")\n",
        "alumno2 = dict() #{}\n",
        "alumno2[\"nombre\"] = \"José\"\n",
        "alumno2[\"nc\"] = \"2129229292\"\n",
        "alumno2[\"edad\"]=18\n",
        "print(alumno2)\n",
        "\n",
        "alumno2[\"edad\"] =alumno2[\"edad\"] + 1\n",
        "print(alumno2)"
      ],
      "execution_count": null,
      "outputs": [
        {
          "output_type": "stream",
          "name": "stdout",
          "text": [
            "{'nombre': 'José'}\n",
            "José\n",
            "Edad del alumno = 18\n",
            "nombre del alumno = JOSÉ\n",
            "{'nombre': 'José', 'nc': '2129229292', 'edad': 18}\n",
            "alumno2:\n",
            "{'nombre': 'José', 'nc': '2129229292', 'edad': 18}\n",
            "{'nombre': 'José', 'nc': '2129229292', 'edad': 19}\n"
          ]
        }
      ]
    },
    {
      "cell_type": "code",
      "metadata": {
        "colab": {
          "base_uri": "https://localhost:8080/"
        },
        "id": "uRQy-m2t8NgW",
        "outputId": "237c1054-1fc0-4f2b-cdf2-cb80243c44a6"
      },
      "source": [
        "cliente = { \"id\":\"CT2121\" , \n",
        "           \"nombre\" :\"José Pedroza Rosales\" ,\n",
        "           \"Telefonos\" : \"casa=55445665 cel=0445567767\"}\n",
        "print(cliente)\n",
        "cliente = { \"id\":\"CT2121\" , \n",
        "           \"nombre\" : {\n",
        "               \"nombres\" : [\"José\", \"Eduardo\"],\n",
        "               \"paterno\" : \"Pedroza\",\n",
        "               \"materno\" : \"Rosales\"\n",
        "           },\n",
        "           \"Telefonos\": {\n",
        "               \"Casa\"  : \"5566324234\",\n",
        "               \"Trabajo\" : \"554433232\",\n",
        "               \"celular\" : \"04455234234\"\n",
        "           },\n",
        "           \"productos\": {\n",
        "               \"ahorro\" : {\"numero_cuenta\" : \"7788\", \"ahorro\" : 2500.5 },\n",
        "               \"tarjetas\":[\n",
        "                           {\"tipo\": \"debito\", \"saldo\": 10000.5},\n",
        "                           {\"tipo\": \"Credito preferente\" , \"limite\" : 250000.5},\n",
        "                           {\"tipo\": \"lite\", \"limite\": 15000.5}\n",
        "                          ]\n",
        "           },\n",
        "           \"direccion\": {\n",
        "               \"calle\": \"Av.central\",\n",
        "               \"numero\": 1245,\n",
        "               \"colonia\": \"impulsora\",\n",
        "               \"delegacion\": \"neza\",\n",
        "               \"estado\": {\n",
        "                   \"clave\": 15,\n",
        "                   \"nombre_corto\": \"EdoMex\",\n",
        "                   \"nombre\": \"Estado de México\"\n",
        "               }\n",
        "           }\n",
        "          }\n",
        "print(cliente[\"Telefonos\"][\"Casa\"]) #llave seria telefonos y valor es el numero \n",
        "print(cliente)\n",
        "print(cliente[\"productos\"][\"ahorro\"][\"ahorro\"])\n",
        "print(cliente[\"productos\"][\"tarjetas\"][2][\"limite\"]) #usamos 2por que es una lista y no un diccionario\n",
        "print(cliente[\"direccion\"][\"estado\"][\"nombre\"].upper())\n",
        "cliente[\"productos\"][\"ahorro\"][\"ahorro\"]-=1500.0\n",
        "print(cliente[\"productos\"])"
      ],
      "execution_count": null,
      "outputs": [
        {
          "output_type": "stream",
          "name": "stdout",
          "text": [
            "{'id': 'CT2121', 'nombre': 'José Pedroza Rosales', 'Telefonos': 'casa=55445665 cel=0445567767'}\n",
            "5566324234\n",
            "{'id': 'CT2121', 'nombre': {'nombres': ['José', 'Eduardo'], 'paterno': 'Pedroza', 'materno': 'Rosales'}, 'Telefonos': {'Casa': '5566324234', 'Trabajo': '554433232', 'celular': '04455234234'}, 'productos': {'ahorro': {'numero_cuenta': '7788', 'ahorro': 2500.5}, 'tarjetas': [{'tipo': 'debito', 'saldo': 10000.5}, {'tipo': 'Credito preferente', 'limite': 250000.5}, {'tipo': 'lite', 'limite': 15000.5}]}, 'direccion': {'calle': 'Av.central', 'numero': 1245, 'colonia': 'impulsora', 'delegacion': 'neza', 'estado': {'clave': 15, 'nombre_corto': 'EdoMex', 'nombre': 'Estado de México'}}}\n",
            "2500.5\n",
            "15000.5\n",
            "ESTADO DE MÉXICO\n",
            "{'ahorro': {'numero_cuenta': '7788', 'ahorro': 1000.5}, 'tarjetas': [{'tipo': 'debito', 'saldo': 10000.5}, {'tipo': 'Credito preferente', 'limite': 250000.5}, {'tipo': 'lite', 'limite': 15000.5}]}\n"
          ]
        }
      ]
    },
    {
      "cell_type": "code",
      "metadata": {
        "colab": {
          "base_uri": "https://localhost:8080/"
        },
        "id": "4Csh8sfSJPha",
        "outputId": "7ebd2733-444f-4532-c6ad-3de04163ce5c"
      },
      "source": [
        "#Diccionario de una pelicula\n",
        "pelicula= { \"nombre de la pelicula\": \"Shrek\",\n",
        "            \"peliculas\": {\n",
        "                \"shrek 1\": {\"año de salida\": \"2001\"},\n",
        "                \"shrek 2\": {\"año de salida\": \"2004\"},\n",
        "                \"shrek 3\": {\"año de salida\": \"2007\"},\n",
        "                \"shrek 4\": {\"año de salida\": \"2010\"}, \n",
        "            },\n",
        "            \"personajes\":{\n",
        "                \"protagonista\": [\"shrek\", \"burro\"],\n",
        "                \"secundarios\": [\"fiona\", \"Lord Farquaad\"]\n",
        "            },\n",
        "            \"presupuesto\":{\n",
        "               \"shrek 1\": {\"conto con\": \"60.00 mil dolares\",\n",
        "                           \"recaudo\":\"484.00 mil dolares\"\n",
        "                           }\n",
        "               \"shrek 2\": {\"conto con\": \"150.00 mil dolares\",\n",
        "                          \"recaudo\":\"954.00 mil dolares\"\n",
        "                           }\n",
        "               \"shrek 3\": {\"conto con\": \"160.00 mil dolares\",\n",
        "                          \"recaudo\":\"798.00 mil dolares\"\n",
        "                           }\n",
        "               \"shrek 4\": {\"conto con\": \"165.00 mil dolares\",\n",
        "                           \"recaudo\":\"752.00 mil dolares\"\n",
        "                           }\n",
        "            },\n",
        "            \"Duración\":{\n",
        "                \"shrek 1\":\"1 hora con 30 minutos\",\n",
        "                \"shrek 2\":\"1 hora con 33 minutos\",\n",
        "                \"shrek 3\":\"1 hora con 33 minutos\",\n",
        "                \"shrek 4\":\"1 hora con 33 minutos\"\n",
        "            },\n",
        "            \"Director\":{\n",
        "                \"shrek 1\":\"Andrew Adamson y Vicky Jenson\",\n",
        "                \"shrek 2\":\"Andrew Adamson,Kelly Asbury y Conrad Vernon\",\n",
        "                \"shrek 3\":\"Chris Miller\",\n",
        "                \"shrek 4\":\"Mike Mitchell\"\n",
        "}\n",
        "print(pelicula)"
      ],
      "execution_count": null,
      "outputs": [
        {
          "output_type": "stream",
          "name": "stdout",
          "text": [
            "{'nombre de la pelicula': 'Shrek', 'peliculas': {'shrek 1': {'año de salida': '2001'}, 'shrek 2': {'año de salida': '2004'}, 'shrek 3': {'año de salida': '2007'}, 'shrek 4': {'año de salida': '2010'}}, 'personajes': {'protagonista': ['shrek', 'burro'], 'secundarios': ['fiona', 'Lord Farquaad']}, 'presupuesto': {'shrek 1': {'conto con': '60.00 mil', 'recaudo': '484.00 mil'}}, 'Duración': {'shrek 1': '1 hora con 30 minutos', 'shrek 2': '1 hora con 33 minutos', 'shrek 3': '1 hora con 33 minutos', 'shrek 4': '1 hora con 33 minutos'}}\n"
          ]
        }
      ]
    },
    {
      "cell_type": "markdown",
      "metadata": {
        "id": "J4oSdS6m_sL5"
      },
      "source": [
        "# Fecha: 11/11/2021"
      ]
    },
    {
      "cell_type": "markdown",
      "metadata": {
        "id": "NkmHYwhTM7QX"
      },
      "source": [
        "# Estructura de control de programación\n",
        "\n",
        "Se puede crear cualquier tipo de algoritmo empleando solamente 3 estrycturas de control:\n",
        "1. Secuendia:\n",
        "    - La representacion de la memoria de programa (Arquitectura Vonn Newman)\n",
        "2. Selección \n",
        "    - Es la estructura de control que decide si un bloque de programa se ejecuta o no se ejecuta.Tambien permite selecciona ejecuar un bloque entre un conjunto de opciones.\n",
        "    En resumen tenemos: Selección simple, selección con bifurcación y selección multiple.\n",
        "3. Repetición \n",
        "    - Este tip de estructura nos permite automatizar,la ejecución repetitiva de código mientras ciertas condiciones se cumplan, tenemos 3 variantes de esta estructura en todos los lenguajes de programación.\n",
        "    - Desde....hasta (estructura for)\n",
        "    - Haz mientras (estructura While)\n",
        "    - Haz y luego validaz mientras(estructura Do-While) "
      ]
    },
    {
      "cell_type": "markdown",
      "metadata": {
        "id": "7KSIrUbVQ9gL"
      },
      "source": [
        "# Apoyarse con el libro Estructura algoritmicas selectivas \n",
        "- Pagina 64 "
      ]
    },
    {
      "cell_type": "markdown",
      "metadata": {
        "id": "L4VnAIObSHbS"
      },
      "source": [
        "# Seleción simple \n",
        "  - Documentar o poner notas\n",
        "   \n",
        "  La estructura if\n",
        "    ```\n",
        "  if<CONDICION>:\n",
        "   <Cuerpo del If>\n",
        "    ```\n",
        "**Nota** Para establecer el cuerpo de una estructura de control en python se usan los tabuladores a la izq.\n",
        "\n",
        "En otros lenguajes de programación como java, c y c++... se usan las llaves \n",
        " { }\n",
        "```\n",
        "int edad = 0;\n",
        "print(\"dame tu edad\");\n",
        "scanf(\"%i\", &edad);\n",
        "if(edad <= 18){\n",
        "  print(\"eres mayor de edad\")\n",
        "\n",
        "}\n",
        "  ```\n"
      ]
    },
    {
      "cell_type": "code",
      "metadata": {
        "colab": {
          "base_uri": "https://localhost:8080/"
        },
        "id": "kErUQCL5SN1o",
        "outputId": "2efa28b9-20b5-44a7-f340-f02a8eed5ebc"
      },
      "source": [
        "edad = int(input(\"dame tu edad:\"))\n",
        "print(f\"tecleaste {edad} años\")\n",
        "\n",
        "if edad >= 18:\n",
        "   print(\"eres mayor de edad\")\n",
        "   print(\"algo\")\n",
        "   print(\"otra cosa\")\n",
        "print(\"fin del prgrama\")\n"
      ],
      "execution_count": null,
      "outputs": [
        {
          "output_type": "stream",
          "name": "stdout",
          "text": [
            "dame tu edad:18\n",
            "tecleaste 18 años\n",
            "eres mayor de edad\n",
            "algo\n",
            "otra cosa\n",
            "fin del prgrama\n"
          ]
        }
      ]
    },
    {
      "cell_type": "code",
      "metadata": {
        "colab": {
          "base_uri": "https://localhost:8080/"
        },
        "id": "uthcq7hbWbxl",
        "outputId": "23353026-aea7-46fb-ec46-9eda876a7098"
      },
      "source": [
        "#programa de calificación\n",
        "\n",
        "CAL = float(input(\"Dame tu calificación:\")) #int entero float flotantes \n",
        "print(f\"Tu calificación es: {CAL}\")\n",
        "\n",
        "if CAL > 8:\n",
        "  print(\"Tu calificación es aprobatoria!! :)\")\n",
        "print(\"fin del programa\")\n"
      ],
      "execution_count": null,
      "outputs": [
        {
          "name": "stdout",
          "output_type": "stream",
          "text": [
            "Dame tu calificación:1000\n",
            "Tu calificación es: 1000.0\n",
            "Tu calificación es aprobatoria!! :)\n",
            "fin del programa\n",
            "tu sueldo es de:1000\n"
          ]
        }
      ]
    },
    {
      "cell_type": "code",
      "metadata": {
        "colab": {
          "base_uri": "https://localhost:8080/"
        },
        "id": "MbGlybA9YqlM",
        "outputId": "414d1d8e-f7e2-4f65-aa05-dce48173f180"
      },
      "source": [
        "SUE = float(input(\"tu sueldo es de:\"))# variables declaradas para poder sustituir \n",
        "AUM = 0\n",
        "MSUE = 0\n",
        "if SUE < 1000: # el if contiene las operaciones que haran \n",
        "    AUM = SUE* 0.15\n",
        "    MSUE = SUE + AUM\n",
        "    print(MSUE) #\n"
      ],
      "execution_count": null,
      "outputs": [
        {
          "output_type": "stream",
          "name": "stdout",
          "text": [
            "tu sueldo es de:875.50\n",
            "1006.825\n"
          ]
        }
      ]
    },
    {
      "cell_type": "markdown",
      "metadata": {
        "id": "xFFmT2aYGD6c"
      },
      "source": [
        "# Fecha: 18/11/21"
      ]
    },
    {
      "cell_type": "markdown",
      "metadata": {
        "id": "_kPfg2JXGizQ"
      },
      "source": [
        "# estructura de selección con bifurcación (if-else)\n",
        "Esta estructura, seleciona una de dos opciones de ejecución, se ejecuta un bloque si la condicion se cumple o se ejecuta otro bloque si la condición se cumple(else).\n",
        "\n",
        "```\n",
        "if<condicion>\n",
        "    <bloque de ejecucón>\n",
        "else:\n",
        "    <bloque de ejecución alterno>\n",
        "```"
      ]
    },
    {
      "cell_type": "code",
      "metadata": {
        "colab": {
          "base_uri": "https://localhost:8080/"
        },
        "id": "1CUMrAkKHhAJ",
        "outputId": "0c6a1ca9-d75b-4740-db00-2d12348a6747"
      },
      "source": [
        "edad= int(input(\"Dame tu edad:\"))\n",
        "print(f\"Tecleaste {edad} años\")\n",
        "if edad >=18:\n",
        "    print(\"Eres mayor de edad, ten tú cheve\")\n",
        "else:\n",
        "    print(\"Eres menor de edad, ten tú Boing\")\n",
        "print(\"fin del programa\")"
      ],
      "execution_count": null,
      "outputs": [
        {
          "output_type": "stream",
          "name": "stdout",
          "text": [
            "Dame tu edad:16\n",
            "Tecleaste 16 años\n",
            "Eres menor de edad, ten tú Boing\n",
            "fin del programa\n"
          ]
        }
      ]
    },
    {
      "cell_type": "code",
      "metadata": {
        "colab": {
          "base_uri": "https://localhost:8080/"
        },
        "id": "GWOvKQ_wJb3w",
        "outputId": "b2c8ca27-4ebe-45c1-b1a4-ceeceb73acf3"
      },
      "source": [
        "#36\n",
        "edad= int(input(\"Dame tu edad:\"))\n",
        "dinero= float(input(\"Dame la cantidad de dinero\"))\n",
        "print(f\"Tecleaste {edad} años\")\n",
        "print(f\"Tecleaste {dinero} pesos\")\n",
        "if edad >=18 and dinero>=36:\n",
        "    print(\"eres mayor de edad, ten tú cheve\")\n",
        "else:\n",
        "    print(\"Eres menor de edad, ten tú boing\")\n",
        "print(\"Fin del programa\")\n"
      ],
      "execution_count": null,
      "outputs": [
        {
          "output_type": "stream",
          "name": "stdout",
          "text": [
            "Dame tu edad:18\n",
            "Dame la cantidad de dinero36\n",
            "Tecleaste 18 años\n",
            "Tecleaste 36.0 pesos\n",
            "eres mayor de edad, ten tú cheve\n",
            "Fin del programa\n"
          ]
        }
      ]
    },
    {
      "cell_type": "markdown",
      "metadata": {
        "id": "EJ2QYtz7LAtb"
      },
      "source": [
        "# if anidado "
      ]
    },
    {
      "cell_type": "code",
      "metadata": {
        "colab": {
          "base_uri": "https://localhost:8080/"
        },
        "id": "MYqk2P2zKcH1",
        "outputId": "c72b668a-c27a-49ed-edd1-0e327f4d4a4c"
      },
      "source": [
        "edad = int (input(\"Dame tu edad:\"))\n",
        "dinero = int (input(\"¿Cuánto dinero tienes?\"))\n",
        "if edad >= 18:\n",
        "    if dinero >=35:\n",
        "        print(\"Eres mayor de edad y tienes dinero, ten tu cheve\")\n",
        "    else:\n",
        "        print(\"No tienes suficiente dinero\")\n",
        "else:\n",
        "    print(\"Eres menor de edad, ten tu Boing\")\n",
        "print(\"Fin del programa\")"
      ],
      "execution_count": null,
      "outputs": [
        {
          "output_type": "stream",
          "name": "stdout",
          "text": [
            "Dame tu edad:16\n",
            "¿Cuánto dinero tienes?36\n",
            "Eres menor de edad, ten tu Boing\n",
            "Fin del programa\n"
          ]
        }
      ]
    },
    {
      "cell_type": "code",
      "metadata": {
        "colab": {
          "base_uri": "https://localhost:8080/"
        },
        "id": "5v-zyLHhMniO",
        "outputId": "98dbb3a9-3a85-4dfe-ce33-d6980149c6d9"
      },
      "source": [
        "edad = int(input(\"Dame tu edad: \"))\n",
        "dinero = float(input(\"Cuanto dinero tienes: \"))\n",
        "print(f\"Tecleaste {edad} años\")\n",
        "print(f\"Tecleaste {dinero} dinero\")\n",
        "if edad >= 18 :\n",
        "    if dinero >=36 :\n",
        "        print(\"Ten tu cheve\")\n",
        "    else:\n",
        "        print(\"tienes la edad pero no tienes dinero suficiente\")\n",
        "else:\n",
        "    if dinero >= 36:\n",
        "        print(\"Tienes el dinero suficiente pero no tienes la edad\")\n",
        "    else: \n",
        "        print(\"No tienes la edad ni el dinero, ve a jugar roblox a tu casa\")"
      ],
      "execution_count": null,
      "outputs": [
        {
          "output_type": "stream",
          "name": "stdout",
          "text": [
            "Dame tu edad: 16\n",
            "Cuanto dinero tienes: 14\n",
            "Tecleaste 16 años\n",
            "Tecleaste 14.0 dinero\n",
            "No tienes la edad ni el dinero, ve a jugar roblox a tu casa\n"
          ]
        }
      ]
    },
    {
      "cell_type": "markdown",
      "metadata": {
        "id": "t0aQw1ifMvOI"
      },
      "source": [
        "El codigo anterior, se puede simplificar usando una palabra reservada especial que existe en algunos lenguajes de programacion \n",
        "### elif \n",
        "lo puedes simplificar "
      ]
    },
    {
      "cell_type": "code",
      "metadata": {
        "id": "1ckCEHsNNAEJ"
      },
      "source": [
        "edad = int(input(\"Dame tu edad: \"))\n",
        "dinero = float(input(\"Cuanto dinero tienes: \"))\n",
        "print(f\"Tecleaste {edad} años\")\n",
        "print(f\"Tecleaste {dinero} dinero\")\n",
        "if edad >= 18 :\n",
        "    if dinero >=36 :\n",
        "        print(\"Ten tu cheve\")\n",
        "    else:\n",
        "        print(\"tienes la edad pero no tienes dinero suficiente\")\n",
        "elif dinero >= 36 :\n",
        "    print(\"Tienes dinero suficiente pero no tienes la edad\")\n",
        "else:\n",
        "    print(\"No tienes la edad ni el dinero, ve a jugar roblox a tu casa\")"
      ],
      "execution_count": null,
      "outputs": []
    },
    {
      "cell_type": "code",
      "metadata": {
        "colab": {
          "base_uri": "https://localhost:8080/"
        },
        "id": "0C9HfryZOs68",
        "outputId": "9cea50cb-3b5f-4697-ddef-df7183ea7e62"
      },
      "source": [
        "CAL = int(input(\"Dame tu calificación\"))\n",
        "if CAL >= 8:\n",
        "    print(\"Aprobado :)\")\n",
        "else: \n",
        "    print(\"Reprobado:(\")\n",
        "print(\"Fin del programa\")"
      ],
      "execution_count": null,
      "outputs": [
        {
          "output_type": "stream",
          "name": "stdout",
          "text": [
            "Dame tu calificación8\n",
            "Aprobado :)\n",
            "Fin del programa\n"
          ]
        }
      ]
    },
    {
      "cell_type": "code",
      "metadata": {
        "colab": {
          "base_uri": "https://localhost:8080/"
        },
        "id": "KTpQdYhTPFGi",
        "outputId": "8b47e43d-eef1-4f86-9468-efc6695c77ea"
      },
      "source": [
        "# ejemplo 2.4\n",
        "SUE = float(input(\"Escribe el sueldo: \"))\n",
        "AUM = 0 \n",
        "NSUE = 0\n",
        "\n",
        "if SUE >= 1000 :\n",
        "    AUM = SUE* 0.15\n",
        "    NSUE = SUE + AUM\n",
        "else:\n",
        "    AUM= SUE*0.12\n",
        "    NSUE = SUE + AUM\n",
        "print(NSUE)\n",
        "\n",
        "#segunda solucion uso de menos memoria por que usa menos variables \n",
        "SUE=float(input(\"dame tu sueldo: \"))\n",
        "if SUE<1000:\n",
        "    NSUE=SUE*1.15\n",
        "else:\n",
        "    NSUE=SUE*1.12\n",
        "print(f\"Tu nuevo sueldo es:{NSUE}\")"
      ],
      "execution_count": null,
      "outputs": [
        {
          "output_type": "stream",
          "name": "stdout",
          "text": [
            "Escribe el sueldo: 999\n",
            "1148.85\n"
          ]
        }
      ]
    },
    {
      "cell_type": "markdown",
      "metadata": {
        "id": "xbWUgOwRSDg2"
      },
      "source": [
        "# Ejercicio if-else\n",
        "### Hacer un programa que solicite el dia de la semana en un valor numerico entero del 1 al 7(Avisarle al usuario si proporciono un valor fuera del rango).\n",
        "### Posteriormente imprimira el da de la semana correspondiente al numero capturado\n",
        "\n",
        "1. Lunes\n",
        "2. Martes\n",
        "...\n",
        "7. Domingo"
      ]
    },
    {
      "cell_type": "code",
      "metadata": {
        "colab": {
          "base_uri": "https://localhost:8080/"
        },
        "id": "n2PkDXeFSCiJ",
        "outputId": "da5a68e6-83b0-4dde-ba89-759944c9b53f"
      },
      "source": [
        "dia=int(input(\"Indica el dia de la semana entre el 1 y 7: \"))\n",
        "if dia <=7 and dia >=1:\n",
        "    if dia is 1:\n",
        "        print(\"Es Lunes por la mañana\")\n",
        "    elif dia is 2:\n",
        "        print(\"Es Martes por la tarde\")\n",
        "    elif dia is 3:\n",
        "        print(\"Es Miercoles un dia soleado\")   \n",
        "    elif dia is 4:\n",
        "        print(\"Es Jueves y hace algo de frio, ponte un sueter\")\n",
        "    elif dia is 5:\n",
        "        print(\"Es Viernes podría llover lleva paraguas\")\n",
        "    elif dia is 6:\n",
        "        print(\"Es Sabado a relajarse con algo de tarea\")\n",
        "    elif dia is 7:\n",
        "        print(\"Es Domingo no olvides el examen de calculo!\")\n",
        "else:\n",
        "    print(\"El numero que diste no es valido, profavor intenta de nuevo, Recuerda que debe ser un numeo del 1-7\")\n",
        "print(\"Fin del programa\")"
      ],
      "execution_count": null,
      "outputs": [
        {
          "output_type": "stream",
          "name": "stdout",
          "text": [
            "Indica el dia de la semana entre el 1 y 7: 0\n",
            "El numero que diste no es valido, profavor intenta de nuevo, Recuerda que debe ser un numeo del 1-7\n",
            "Fin del programa\n"
          ]
        }
      ]
    },
    {
      "cell_type": "markdown",
      "metadata": {
        "id": "ehLT5lewXr9Z"
      },
      "source": [
        "- El programa de arriba utiliza elif para evitar hacer el codigo mas largo\n",
        "- En cambio el codigo de abajo utiliza la forma   larga de escribir el codigo"
      ]
    },
    {
      "cell_type": "code",
      "metadata": {
        "colab": {
          "base_uri": "https://localhost:8080/"
        },
        "id": "wLFY9rBcVlqi",
        "outputId": "802f7f19-ff6e-44f2-8287-0b7725c7b6d2"
      },
      "source": [
        "dia=int(input(\"Indica el dia de la semana entre el 1 y 7: \"))\n",
        "print(f\"camturaste el numero {dia}\")\n",
        "\n",
        "if dia >=1 and dia <=7:\n",
        "    if dia ==1:\n",
        "        print(\"Lunes\")\n",
        "    else:\n",
        "        if dia ==2:\n",
        "            print(\"Martes\")\n",
        "        else:\n",
        "            if dia ==3:\n",
        "                print(\"Miercoles\")\n",
        "            else:\n",
        "                if dia ==4:\n",
        "                    print(\"Jueves\")\n",
        "                else:\n",
        "                    if dia ==5:\n",
        "                        print(\"Viernes\")\n",
        "                    else:\n",
        "                        if dia ==6:\n",
        "                            print(\"Sabado\")\n",
        "                        else:\n",
        "                             print(\"Domingo\")\n",
        "else:\n",
        "    print(\"Ese número no esta dentro del rango solicitado\")"
      ],
      "execution_count": null,
      "outputs": [
        {
          "output_type": "stream",
          "name": "stdout",
          "text": [
            "Indica el dia de la semana entre el 1 y 7: -1\n",
            "camturaste el numero -1\n",
            "Ese número no esta dentro del rango solicitado\n"
          ]
        }
      ]
    },
    {
      "cell_type": "markdown",
      "metadata": {
        "id": "gPPySKsDZG-C"
      },
      "source": [
        "El codigo ejecuta todas las comparaciones y es ineficiente, ya que no descarta al faltar else "
      ]
    },
    {
      "cell_type": "code",
      "metadata": {
        "colab": {
          "base_uri": "https://localhost:8080/"
        },
        "id": "w0spUZH_Yn9k",
        "outputId": "28bd31d0-1747-48c7-bc0a-d3c5ff86af8d"
      },
      "source": [
        "dia=int(input(\"Indica el dia de la semana entre el 1 y 7: \"))\n",
        "print(f\"camturaste el numero {dia}\")\n",
        "\n",
        "if dia >=1 and dia <=7:\n",
        "    if dia ==1:\n",
        "        print(\"Lunes\")\n",
        "    if dia ==2:\n",
        "            print(\"Martes\") \n",
        "else:\n",
        "    print(\"Ese número no esta dentro del rango solicitado\")"
      ],
      "execution_count": null,
      "outputs": [
        {
          "output_type": "stream",
          "name": "stdout",
          "text": [
            "Indica el dia de la semana entre el 1 y 7: 2\n",
            "camturaste el numero 2\n",
            "Martes\n"
          ]
        }
      ]
    },
    {
      "cell_type": "markdown",
      "metadata": {
        "id": "5bL3Agu_Zudl"
      },
      "source": [
        "###Tarea 1\n",
        "# Hacer un programa que pida dos numeros enteros y que imprima en pantalla lo siguiente\n",
        "\n",
        "1. Cual de ellos es el numero mayor\n",
        "2. Cual de ellos es el numero menor\n",
        "o en su defecto \n",
        "3. imprimir que los valores son iguales\n",
        "\n",
        "###Tarea 2\n",
        "#Hacer un programa que solicite 3 numeros enteros diferentes entre sí y que imprima cual de los tres es el mayor.\n",
        "\n",
        "###Tarea 3 \n",
        "#Hacer un programa que solicite 3 numeros enteros diferentes entre sí y que imprima cual de los tres es el menor.\n",
        "*******\n",
        "\n",
        "###Tarea 4\n",
        "#Hacer un programa que solicite 4 numeros enteros diferentes entre si e imprima cual de ellos es el menor y cual de ellos es el menor.\n",
        "\n"
      ]
    },
    {
      "cell_type": "code",
      "metadata": {
        "id": "aEaXrWQhbAvR"
      },
      "source": [
        ""
      ],
      "execution_count": null,
      "outputs": []
    },
    {
      "cell_type": "markdown",
      "metadata": {
        "id": "cCrqpeUpbBre"
      },
      "source": [
        "# Estructura de selección multiple (switch)\n",
        "En python no existe la estructura de seleeción (switch), en su lugar se emplea la palabra reservada:\n",
        "## elif <condicion>:\n",
        "\n",
        "Por ejemplo en el lenguaje C y Java seria dela forma:\n",
        "```\n",
        "\n",
        "```"
      ]
    },
    {
      "cell_type": "markdown",
      "metadata": {
        "id": "2w48w41Bd9MV"
      },
      "source": [
        "T moral de la pagina 66 75 en pdf"
      ]
    },
    {
      "cell_type": "code",
      "metadata": {
        "colab": {
          "base_uri": "https://localhost:8080/"
        },
        "id": "waBhXAvsc-p6",
        "outputId": "d72599d0-feb8-4d3e-8ae5-4bfb61196955"
      },
      "source": [
        "# Ejemplo 2.7\n",
        "NUM = int(input(\"dame un número entre 1 y 3: \"))\n",
        "V= float(input(\"Dame un valor float:\"))\n",
        "VAL = 0\n",
        "if NUM ==1:\n",
        "    VAL =100* V\n",
        "elif NUM ==2:\n",
        "    VAL = 100 ** V\n",
        "elif NUM==3:\n",
        "    VAL=100/V\n",
        "else: \n",
        "    VAL = 0\n",
        "print(VAL) "
      ],
      "execution_count": null,
      "outputs": [
        {
          "output_type": "stream",
          "name": "stdout",
          "text": [
            "dame un número entre 1 y 3: 1\n",
            "Dame un valor float:15\n",
            "1500.0\n"
          ]
        }
      ]
    }
  ]
}